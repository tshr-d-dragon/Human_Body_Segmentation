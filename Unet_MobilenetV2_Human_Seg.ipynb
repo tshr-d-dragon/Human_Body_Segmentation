{
 "cells": [
  {
   "cell_type": "markdown",
   "metadata": {
    "id": "ujrOGH-oQjuF"
   },
   "source": [
    "# Pre requisites"
   ]
  },
  {
   "cell_type": "code",
   "execution_count": 1,
   "metadata": {
    "colab": {
     "base_uri": "https://localhost:8080/"
    },
    "id": "1my3Q6jGIhX4",
    "outputId": "90b26be9-2df2-481c-c3e8-fcae7a10facf"
   },
   "outputs": [
    {
     "name": "stdout",
     "output_type": "stream",
     "text": [
      "Mon Jul 19 06:16:15 2021       \n",
      "+-----------------------------------------------------------------------------+\n",
      "| NVIDIA-SMI 470.42.01    Driver Version: 460.32.03    CUDA Version: 11.2     |\n",
      "|-------------------------------+----------------------+----------------------+\n",
      "| GPU  Name        Persistence-M| Bus-Id        Disp.A | Volatile Uncorr. ECC |\n",
      "| Fan  Temp  Perf  Pwr:Usage/Cap|         Memory-Usage | GPU-Util  Compute M. |\n",
      "|                               |                      |               MIG M. |\n",
      "|===============================+======================+======================|\n",
      "|   0  Tesla T4            Off  | 00000000:00:04.0 Off |                    0 |\n",
      "| N/A   57C    P8    10W /  70W |      0MiB / 15109MiB |      0%      Default |\n",
      "|                               |                      |                  N/A |\n",
      "+-------------------------------+----------------------+----------------------+\n",
      "                                                                               \n",
      "+-----------------------------------------------------------------------------+\n",
      "| Processes:                                                                  |\n",
      "|  GPU   GI   CI        PID   Type   Process name                  GPU Memory |\n",
      "|        ID   ID                                                   Usage      |\n",
      "|=============================================================================|\n",
      "|  No running processes found                                                 |\n",
      "+-----------------------------------------------------------------------------+\n"
     ]
    }
   ],
   "source": [
    "!nvidia-smi"
   ]
  },
  {
   "cell_type": "code",
   "execution_count": 13,
   "metadata": {
    "colab": {
     "base_uri": "https://localhost:8080/",
     "height": 106,
     "resources": {
      "http://localhost:8080/nbextensions/google.colab/files.js": {
       "data": "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",
       "headers": [
        [
         "content-type",
         "application/javascript"
        ]
       ],
       "ok": true,
       "status": 200,
       "status_text": "OK"
      }
     }
    },
    "id": "rou5E7stIhVF",
    "outputId": "3fed7d75-c0da-4123-c70e-5a2fa0a17d95"
   },
   "outputs": [
    {
     "data": {
      "text/html": [
       "\n",
       "     <input type=\"file\" id=\"files-85596731-749a-4007-9164-33f57af6847e\" name=\"files[]\" multiple disabled\n",
       "        style=\"border:none\" />\n",
       "     <output id=\"result-85596731-749a-4007-9164-33f57af6847e\">\n",
       "      Upload widget is only available when the cell has been executed in the\n",
       "      current browser session. Please rerun this cell to enable.\n",
       "      </output>\n",
       "      <script src=\"/nbextensions/google.colab/files.js\"></script> "
      ],
      "text/plain": [
       "<IPython.core.display.HTML object>"
      ]
     },
     "metadata": {
      "tags": []
     },
     "output_type": "display_data"
    },
    {
     "name": "stdout",
     "output_type": "stream",
     "text": [
      "kaggle.json\n",
      "Downloading supervisely-filtered-segmentation-person-dataset.zip to /content\n",
      "100% 4.30G/4.31G [01:25<00:00, 36.9MB/s]\n",
      "100% 4.31G/4.31G [01:25<00:00, 54.1MB/s]\n"
     ]
    }
   ],
   "source": [
    "from google.colab import files\n",
    "files.upload() #upload kaggle.json\n",
    "\n",
    "!pip install -q kaggle\n",
    "!mkdir -p ~/.kaggle\n",
    "!cp kaggle.json ~/.kaggle/\n",
    "!ls ~/.kaggle\n",
    "!chmod 600 /root/.kaggle/kaggle.json\n",
    "\n",
    "!kaggle datasets download -d tapakah68/supervisely-filtered-segmentation-person-dataset\n",
    "\n",
    "!unzip -q /content/supervisely-filtered-segmentation-person-dataset.zip"
   ]
  },
  {
   "cell_type": "code",
   "execution_count": 3,
   "metadata": {
    "colab": {
     "base_uri": "https://localhost:8080/"
    },
    "id": "cy8gnsqUIg_d",
    "outputId": "b63ce72a-6d9c-4d2d-d29c-e49ad480ff54"
   },
   "outputs": [
    {
     "name": "stdout",
     "output_type": "stream",
     "text": [
      "Mounted at /content/drive\n"
     ]
    }
   ],
   "source": [
    "from google.colab import drive\n",
    "drive.mount('/content/drive')"
   ]
  },
  {
   "cell_type": "code",
   "execution_count": null,
   "metadata": {
    "id": "3CGSD0h4Zi79"
   },
   "outputs": [],
   "source": [
    "\n",
    "!pip install q tensorflow==2.1\n",
    "!pip install q keras==2.3.1\n",
    "!pip install git+https://github.com/qubvel/segmentation_models\n",
    "\n",
    "# for str decode error ... run it and restart runtime\n",
    "!pip uninstall h5py\n",
    "!pip install h5py==2.10.0"
   ]
  },
  {
   "cell_type": "markdown",
   "metadata": {
    "id": "e3KmUqLPQcRz"
   },
   "source": [
    "# Preprocessing and Model code"
   ]
  },
  {
   "cell_type": "code",
   "execution_count": 20,
   "metadata": {
    "colab": {
     "base_uri": "https://localhost:8080/"
    },
    "id": "mZnbBLFoIg77",
    "outputId": "09562fed-97f5-4ca6-d41d-26ef1fb8ba3c"
   },
   "outputs": [
    {
     "name": "stdout",
     "output_type": "stream",
     "text": [
      "2133 2133 534 534\n",
      "(12, 512, 512, 3) (12, 512, 512, 1)\n",
      "(12, 512, 512, 3) (12, 512, 512, 1)\n"
     ]
    }
   ],
   "source": [
    "import os\n",
    "import numpy as np\n",
    "import cv2\n",
    "from glob import glob\n",
    "from sklearn.model_selection import train_test_split\n",
    "import tensorflow as tf\n",
    "\n",
    "\n",
    "def load_dataset(dataset_path):\n",
    "    images = glob(os.path.join(dataset_path, \"images/*\"))\n",
    "    masks = glob(os.path.join(dataset_path, \"masks/*\"))\n",
    "\n",
    "    train_x, test_x = train_test_split(images, test_size=0.2, random_state=1996)\n",
    "    train_y, test_y = train_test_split(masks, test_size=0.2, random_state=1996)\n",
    "\n",
    "    return train_x, train_y, test_x, test_y\n",
    "\n",
    "train_x, train_y, test_x, test_y = load_dataset('/content/supervisely_person_clean_2667_img')\n",
    "print(len(train_x), len(train_y), len(test_x), len(test_y))\n",
    "\n",
    "train_X_y_paths = list(zip(train_x, train_y))\n",
    "val_X_y_paths = list(zip(test_x, test_y))\n",
    "\n",
    "def shuffle(samples):\n",
    "  index = np.random.permutation(len(samples))\n",
    "  return np.array(samples)[index]\n",
    "\n",
    "# def get_data(base_dir,w):\n",
    "#   img = glob(base_dir+f'images/{w}/*/*.png')\n",
    "#   img_names = [path.split(f'/{w}/')[1].split('_leftImg8bit.png')[0] for path in img]\n",
    "#   label = [base_dir + f'gtFine/{w}/' + name + '_gtFine_color.png' for name in img_names]\n",
    "#   del img_names\n",
    "#   return img, label\n",
    "\n",
    "# base_dir = \"/content/people_segmentation\"\n",
    "# train_img,train_label = pre_shuffle(*get_data(base_dir,\"images\"))\n",
    "# val_img,val_label = pre_shuffle(*get_data(base_dir,\"val\"))\n",
    "\n",
    "def get_data_generator(samples,batch_size):\n",
    "\n",
    "  while True:\n",
    "    for offset in range(0, len(samples), batch_size): \n",
    "      samples = shuffle(samples)           \n",
    "      batch_samples = samples[offset:offset+batch_size]\n",
    "      X_train = []\n",
    "      Y_train = []        \n",
    " \n",
    "      for batch_sample in batch_samples:\n",
    "          \n",
    "        X_image = cv2.imread(batch_sample[0])[:,:,::-1]# convert bgr to rgb\n",
    "        X_image = cv2.resize(X_image, (512, 512))\n",
    "        X_image = X_image / 255.0\n",
    "        X_image = X_image.astype(np.float32)\n",
    "\n",
    "        Y_image = cv2.imread(batch_sample[1], 0)\n",
    "#         Y_image = Y_image * 255.0\n",
    "        Y_image = cv2.resize(Y_image, (512, 512))\n",
    "        Y_image = Y_image / 255.0\n",
    "        Y_image = Y_image.astype(np.float32)\n",
    "        Y_image = np.expand_dims(Y_image, axis=-1)\n",
    "\n",
    "        X_train.append(X_image)\n",
    "        Y_train.append(Y_image)\n",
    "      yield np.array(X_train), np.array(Y_train)\n",
    "\n",
    "\n",
    "BATCH_SIZE = 12\n",
    "train_generator = get_data_generator(train_X_y_paths,batch_size=BATCH_SIZE)\n",
    "val_generator = get_data_generator(val_X_y_paths,batch_size=BATCH_SIZE)\n",
    " \n",
    "x_train, y_train = next(train_generator)\n",
    "x_val, y_val  = next(val_generator)\n",
    " \n",
    "print(x_train.shape,y_train.shape)\n",
    "print(x_val.shape, y_val.shape)"
   ]
  },
  {
   "cell_type": "code",
   "execution_count": 29,
   "metadata": {
    "colab": {
     "base_uri": "https://localhost:8080/"
    },
    "id": "yFk_ia0uJ57J",
    "outputId": "0df37599-5dde-4b03-b0e7-a86a92287eb1"
   },
   "outputs": [
    {
     "name": "stdout",
     "output_type": "stream",
     "text": [
      "TF Version:  2.1.0\n"
     ]
    },
    {
     "name": "stderr",
     "output_type": "stream",
     "text": [
      "/usr/local/lib/python3.7/dist-packages/keras_applications/mobilenet_v2.py:294: UserWarning: `input_shape` is undefined or non-square, or `rows` is not in [96, 128, 160, 192, 224]. Weights for input shape (224, 224) will be loaded as the default.\n",
      "  warnings.warn('`input_shape` is undefined or non-square, '\n"
     ]
    },
    {
     "name": "stdout",
     "output_type": "stream",
     "text": [
      "Model: \"MobileNetV2_U-Net\"\n",
      "__________________________________________________________________________________________________\n",
      "Layer (type)                    Output Shape         Param #     Connected to                     \n",
      "==================================================================================================\n",
      "input_8 (InputLayer)            [(None, 512, 512, 3) 0                                            \n",
      "__________________________________________________________________________________________________\n",
      "Conv1_pad (ZeroPadding2D)       (None, 513, 513, 3)  0           input_8[0][0]                    \n",
      "__________________________________________________________________________________________________\n",
      "Conv1 (Conv2D)                  (None, 256, 256, 32) 864         Conv1_pad[0][0]                  \n",
      "__________________________________________________________________________________________________\n",
      "bn_Conv1 (BatchNormalization)   (None, 256, 256, 32) 128         Conv1[0][0]                      \n",
      "__________________________________________________________________________________________________\n",
      "Conv1_relu (ReLU)               (None, 256, 256, 32) 0           bn_Conv1[0][0]                   \n",
      "__________________________________________________________________________________________________\n",
      "expanded_conv_depthwise (Depthw (None, 256, 256, 32) 288         Conv1_relu[0][0]                 \n",
      "__________________________________________________________________________________________________\n",
      "expanded_conv_depthwise_BN (Bat (None, 256, 256, 32) 128         expanded_conv_depthwise[0][0]    \n",
      "__________________________________________________________________________________________________\n",
      "expanded_conv_depthwise_relu (R (None, 256, 256, 32) 0           expanded_conv_depthwise_BN[0][0] \n",
      "__________________________________________________________________________________________________\n",
      "expanded_conv_project (Conv2D)  (None, 256, 256, 16) 512         expanded_conv_depthwise_relu[0][0\n",
      "__________________________________________________________________________________________________\n",
      "expanded_conv_project_BN (Batch (None, 256, 256, 16) 64          expanded_conv_project[0][0]      \n",
      "__________________________________________________________________________________________________\n",
      "block_1_expand (Conv2D)         (None, 256, 256, 96) 1536        expanded_conv_project_BN[0][0]   \n",
      "__________________________________________________________________________________________________\n",
      "block_1_expand_BN (BatchNormali (None, 256, 256, 96) 384         block_1_expand[0][0]             \n",
      "__________________________________________________________________________________________________\n",
      "block_1_expand_relu (ReLU)      (None, 256, 256, 96) 0           block_1_expand_BN[0][0]          \n",
      "__________________________________________________________________________________________________\n",
      "block_1_pad (ZeroPadding2D)     (None, 257, 257, 96) 0           block_1_expand_relu[0][0]        \n",
      "__________________________________________________________________________________________________\n",
      "block_1_depthwise (DepthwiseCon (None, 128, 128, 96) 864         block_1_pad[0][0]                \n",
      "__________________________________________________________________________________________________\n",
      "block_1_depthwise_BN (BatchNorm (None, 128, 128, 96) 384         block_1_depthwise[0][0]          \n",
      "__________________________________________________________________________________________________\n",
      "block_1_depthwise_relu (ReLU)   (None, 128, 128, 96) 0           block_1_depthwise_BN[0][0]       \n",
      "__________________________________________________________________________________________________\n",
      "block_1_project (Conv2D)        (None, 128, 128, 24) 2304        block_1_depthwise_relu[0][0]     \n",
      "__________________________________________________________________________________________________\n",
      "block_1_project_BN (BatchNormal (None, 128, 128, 24) 96          block_1_project[0][0]            \n",
      "__________________________________________________________________________________________________\n",
      "block_2_expand (Conv2D)         (None, 128, 128, 144 3456        block_1_project_BN[0][0]         \n",
      "__________________________________________________________________________________________________\n",
      "block_2_expand_BN (BatchNormali (None, 128, 128, 144 576         block_2_expand[0][0]             \n",
      "__________________________________________________________________________________________________\n",
      "block_2_expand_relu (ReLU)      (None, 128, 128, 144 0           block_2_expand_BN[0][0]          \n",
      "__________________________________________________________________________________________________\n",
      "block_2_depthwise (DepthwiseCon (None, 128, 128, 144 1296        block_2_expand_relu[0][0]        \n",
      "__________________________________________________________________________________________________\n",
      "block_2_depthwise_BN (BatchNorm (None, 128, 128, 144 576         block_2_depthwise[0][0]          \n",
      "__________________________________________________________________________________________________\n",
      "block_2_depthwise_relu (ReLU)   (None, 128, 128, 144 0           block_2_depthwise_BN[0][0]       \n",
      "__________________________________________________________________________________________________\n",
      "block_2_project (Conv2D)        (None, 128, 128, 24) 3456        block_2_depthwise_relu[0][0]     \n",
      "__________________________________________________________________________________________________\n",
      "block_2_project_BN (BatchNormal (None, 128, 128, 24) 96          block_2_project[0][0]            \n",
      "__________________________________________________________________________________________________\n",
      "block_2_add (Add)               (None, 128, 128, 24) 0           block_1_project_BN[0][0]         \n",
      "                                                                 block_2_project_BN[0][0]         \n",
      "__________________________________________________________________________________________________\n",
      "block_3_expand (Conv2D)         (None, 128, 128, 144 3456        block_2_add[0][0]                \n",
      "__________________________________________________________________________________________________\n",
      "block_3_expand_BN (BatchNormali (None, 128, 128, 144 576         block_3_expand[0][0]             \n",
      "__________________________________________________________________________________________________\n",
      "block_3_expand_relu (ReLU)      (None, 128, 128, 144 0           block_3_expand_BN[0][0]          \n",
      "__________________________________________________________________________________________________\n",
      "block_3_pad (ZeroPadding2D)     (None, 129, 129, 144 0           block_3_expand_relu[0][0]        \n",
      "__________________________________________________________________________________________________\n",
      "block_3_depthwise (DepthwiseCon (None, 64, 64, 144)  1296        block_3_pad[0][0]                \n",
      "__________________________________________________________________________________________________\n",
      "block_3_depthwise_BN (BatchNorm (None, 64, 64, 144)  576         block_3_depthwise[0][0]          \n",
      "__________________________________________________________________________________________________\n",
      "block_3_depthwise_relu (ReLU)   (None, 64, 64, 144)  0           block_3_depthwise_BN[0][0]       \n",
      "__________________________________________________________________________________________________\n",
      "block_3_project (Conv2D)        (None, 64, 64, 32)   4608        block_3_depthwise_relu[0][0]     \n",
      "__________________________________________________________________________________________________\n",
      "block_3_project_BN (BatchNormal (None, 64, 64, 32)   128         block_3_project[0][0]            \n",
      "__________________________________________________________________________________________________\n",
      "block_4_expand (Conv2D)         (None, 64, 64, 192)  6144        block_3_project_BN[0][0]         \n",
      "__________________________________________________________________________________________________\n",
      "block_4_expand_BN (BatchNormali (None, 64, 64, 192)  768         block_4_expand[0][0]             \n",
      "__________________________________________________________________________________________________\n",
      "block_4_expand_relu (ReLU)      (None, 64, 64, 192)  0           block_4_expand_BN[0][0]          \n",
      "__________________________________________________________________________________________________\n",
      "block_4_depthwise (DepthwiseCon (None, 64, 64, 192)  1728        block_4_expand_relu[0][0]        \n",
      "__________________________________________________________________________________________________\n",
      "block_4_depthwise_BN (BatchNorm (None, 64, 64, 192)  768         block_4_depthwise[0][0]          \n",
      "__________________________________________________________________________________________________\n",
      "block_4_depthwise_relu (ReLU)   (None, 64, 64, 192)  0           block_4_depthwise_BN[0][0]       \n",
      "__________________________________________________________________________________________________\n",
      "block_4_project (Conv2D)        (None, 64, 64, 32)   6144        block_4_depthwise_relu[0][0]     \n",
      "__________________________________________________________________________________________________\n",
      "block_4_project_BN (BatchNormal (None, 64, 64, 32)   128         block_4_project[0][0]            \n",
      "__________________________________________________________________________________________________\n",
      "block_4_add (Add)               (None, 64, 64, 32)   0           block_3_project_BN[0][0]         \n",
      "                                                                 block_4_project_BN[0][0]         \n",
      "__________________________________________________________________________________________________\n",
      "block_5_expand (Conv2D)         (None, 64, 64, 192)  6144        block_4_add[0][0]                \n",
      "__________________________________________________________________________________________________\n",
      "block_5_expand_BN (BatchNormali (None, 64, 64, 192)  768         block_5_expand[0][0]             \n",
      "__________________________________________________________________________________________________\n",
      "block_5_expand_relu (ReLU)      (None, 64, 64, 192)  0           block_5_expand_BN[0][0]          \n",
      "__________________________________________________________________________________________________\n",
      "block_5_depthwise (DepthwiseCon (None, 64, 64, 192)  1728        block_5_expand_relu[0][0]        \n",
      "__________________________________________________________________________________________________\n",
      "block_5_depthwise_BN (BatchNorm (None, 64, 64, 192)  768         block_5_depthwise[0][0]          \n",
      "__________________________________________________________________________________________________\n",
      "block_5_depthwise_relu (ReLU)   (None, 64, 64, 192)  0           block_5_depthwise_BN[0][0]       \n",
      "__________________________________________________________________________________________________\n",
      "block_5_project (Conv2D)        (None, 64, 64, 32)   6144        block_5_depthwise_relu[0][0]     \n",
      "__________________________________________________________________________________________________\n",
      "block_5_project_BN (BatchNormal (None, 64, 64, 32)   128         block_5_project[0][0]            \n",
      "__________________________________________________________________________________________________\n",
      "block_5_add (Add)               (None, 64, 64, 32)   0           block_4_add[0][0]                \n",
      "                                                                 block_5_project_BN[0][0]         \n",
      "__________________________________________________________________________________________________\n",
      "block_6_expand (Conv2D)         (None, 64, 64, 192)  6144        block_5_add[0][0]                \n",
      "__________________________________________________________________________________________________\n",
      "block_6_expand_BN (BatchNormali (None, 64, 64, 192)  768         block_6_expand[0][0]             \n",
      "__________________________________________________________________________________________________\n",
      "block_6_expand_relu (ReLU)      (None, 64, 64, 192)  0           block_6_expand_BN[0][0]          \n",
      "__________________________________________________________________________________________________\n",
      "block_6_pad (ZeroPadding2D)     (None, 65, 65, 192)  0           block_6_expand_relu[0][0]        \n",
      "__________________________________________________________________________________________________\n",
      "block_6_depthwise (DepthwiseCon (None, 32, 32, 192)  1728        block_6_pad[0][0]                \n",
      "__________________________________________________________________________________________________\n",
      "block_6_depthwise_BN (BatchNorm (None, 32, 32, 192)  768         block_6_depthwise[0][0]          \n",
      "__________________________________________________________________________________________________\n",
      "block_6_depthwise_relu (ReLU)   (None, 32, 32, 192)  0           block_6_depthwise_BN[0][0]       \n",
      "__________________________________________________________________________________________________\n",
      "block_6_project (Conv2D)        (None, 32, 32, 64)   12288       block_6_depthwise_relu[0][0]     \n",
      "__________________________________________________________________________________________________\n",
      "block_6_project_BN (BatchNormal (None, 32, 32, 64)   256         block_6_project[0][0]            \n",
      "__________________________________________________________________________________________________\n",
      "block_7_expand (Conv2D)         (None, 32, 32, 384)  24576       block_6_project_BN[0][0]         \n",
      "__________________________________________________________________________________________________\n",
      "block_7_expand_BN (BatchNormali (None, 32, 32, 384)  1536        block_7_expand[0][0]             \n",
      "__________________________________________________________________________________________________\n",
      "block_7_expand_relu (ReLU)      (None, 32, 32, 384)  0           block_7_expand_BN[0][0]          \n",
      "__________________________________________________________________________________________________\n",
      "block_7_depthwise (DepthwiseCon (None, 32, 32, 384)  3456        block_7_expand_relu[0][0]        \n",
      "__________________________________________________________________________________________________\n",
      "block_7_depthwise_BN (BatchNorm (None, 32, 32, 384)  1536        block_7_depthwise[0][0]          \n",
      "__________________________________________________________________________________________________\n",
      "block_7_depthwise_relu (ReLU)   (None, 32, 32, 384)  0           block_7_depthwise_BN[0][0]       \n",
      "__________________________________________________________________________________________________\n",
      "block_7_project (Conv2D)        (None, 32, 32, 64)   24576       block_7_depthwise_relu[0][0]     \n",
      "__________________________________________________________________________________________________\n",
      "block_7_project_BN (BatchNormal (None, 32, 32, 64)   256         block_7_project[0][0]            \n",
      "__________________________________________________________________________________________________\n",
      "block_7_add (Add)               (None, 32, 32, 64)   0           block_6_project_BN[0][0]         \n",
      "                                                                 block_7_project_BN[0][0]         \n",
      "__________________________________________________________________________________________________\n",
      "block_8_expand (Conv2D)         (None, 32, 32, 384)  24576       block_7_add[0][0]                \n",
      "__________________________________________________________________________________________________\n",
      "block_8_expand_BN (BatchNormali (None, 32, 32, 384)  1536        block_8_expand[0][0]             \n",
      "__________________________________________________________________________________________________\n",
      "block_8_expand_relu (ReLU)      (None, 32, 32, 384)  0           block_8_expand_BN[0][0]          \n",
      "__________________________________________________________________________________________________\n",
      "block_8_depthwise (DepthwiseCon (None, 32, 32, 384)  3456        block_8_expand_relu[0][0]        \n",
      "__________________________________________________________________________________________________\n",
      "block_8_depthwise_BN (BatchNorm (None, 32, 32, 384)  1536        block_8_depthwise[0][0]          \n",
      "__________________________________________________________________________________________________\n",
      "block_8_depthwise_relu (ReLU)   (None, 32, 32, 384)  0           block_8_depthwise_BN[0][0]       \n",
      "__________________________________________________________________________________________________\n",
      "block_8_project (Conv2D)        (None, 32, 32, 64)   24576       block_8_depthwise_relu[0][0]     \n",
      "__________________________________________________________________________________________________\n",
      "block_8_project_BN (BatchNormal (None, 32, 32, 64)   256         block_8_project[0][0]            \n",
      "__________________________________________________________________________________________________\n",
      "block_8_add (Add)               (None, 32, 32, 64)   0           block_7_add[0][0]                \n",
      "                                                                 block_8_project_BN[0][0]         \n",
      "__________________________________________________________________________________________________\n",
      "block_9_expand (Conv2D)         (None, 32, 32, 384)  24576       block_8_add[0][0]                \n",
      "__________________________________________________________________________________________________\n",
      "block_9_expand_BN (BatchNormali (None, 32, 32, 384)  1536        block_9_expand[0][0]             \n",
      "__________________________________________________________________________________________________\n",
      "block_9_expand_relu (ReLU)      (None, 32, 32, 384)  0           block_9_expand_BN[0][0]          \n",
      "__________________________________________________________________________________________________\n",
      "block_9_depthwise (DepthwiseCon (None, 32, 32, 384)  3456        block_9_expand_relu[0][0]        \n",
      "__________________________________________________________________________________________________\n",
      "block_9_depthwise_BN (BatchNorm (None, 32, 32, 384)  1536        block_9_depthwise[0][0]          \n",
      "__________________________________________________________________________________________________\n",
      "block_9_depthwise_relu (ReLU)   (None, 32, 32, 384)  0           block_9_depthwise_BN[0][0]       \n",
      "__________________________________________________________________________________________________\n",
      "block_9_project (Conv2D)        (None, 32, 32, 64)   24576       block_9_depthwise_relu[0][0]     \n",
      "__________________________________________________________________________________________________\n",
      "block_9_project_BN (BatchNormal (None, 32, 32, 64)   256         block_9_project[0][0]            \n",
      "__________________________________________________________________________________________________\n",
      "block_9_add (Add)               (None, 32, 32, 64)   0           block_8_add[0][0]                \n",
      "                                                                 block_9_project_BN[0][0]         \n",
      "__________________________________________________________________________________________________\n",
      "block_10_expand (Conv2D)        (None, 32, 32, 384)  24576       block_9_add[0][0]                \n",
      "__________________________________________________________________________________________________\n",
      "block_10_expand_BN (BatchNormal (None, 32, 32, 384)  1536        block_10_expand[0][0]            \n",
      "__________________________________________________________________________________________________\n",
      "block_10_expand_relu (ReLU)     (None, 32, 32, 384)  0           block_10_expand_BN[0][0]         \n",
      "__________________________________________________________________________________________________\n",
      "block_10_depthwise (DepthwiseCo (None, 32, 32, 384)  3456        block_10_expand_relu[0][0]       \n",
      "__________________________________________________________________________________________________\n",
      "block_10_depthwise_BN (BatchNor (None, 32, 32, 384)  1536        block_10_depthwise[0][0]         \n",
      "__________________________________________________________________________________________________\n",
      "block_10_depthwise_relu (ReLU)  (None, 32, 32, 384)  0           block_10_depthwise_BN[0][0]      \n",
      "__________________________________________________________________________________________________\n",
      "block_10_project (Conv2D)       (None, 32, 32, 96)   36864       block_10_depthwise_relu[0][0]    \n",
      "__________________________________________________________________________________________________\n",
      "block_10_project_BN (BatchNorma (None, 32, 32, 96)   384         block_10_project[0][0]           \n",
      "__________________________________________________________________________________________________\n",
      "block_11_expand (Conv2D)        (None, 32, 32, 576)  55296       block_10_project_BN[0][0]        \n",
      "__________________________________________________________________________________________________\n",
      "block_11_expand_BN (BatchNormal (None, 32, 32, 576)  2304        block_11_expand[0][0]            \n",
      "__________________________________________________________________________________________________\n",
      "block_11_expand_relu (ReLU)     (None, 32, 32, 576)  0           block_11_expand_BN[0][0]         \n",
      "__________________________________________________________________________________________________\n",
      "block_11_depthwise (DepthwiseCo (None, 32, 32, 576)  5184        block_11_expand_relu[0][0]       \n",
      "__________________________________________________________________________________________________\n",
      "block_11_depthwise_BN (BatchNor (None, 32, 32, 576)  2304        block_11_depthwise[0][0]         \n",
      "__________________________________________________________________________________________________\n",
      "block_11_depthwise_relu (ReLU)  (None, 32, 32, 576)  0           block_11_depthwise_BN[0][0]      \n",
      "__________________________________________________________________________________________________\n",
      "block_11_project (Conv2D)       (None, 32, 32, 96)   55296       block_11_depthwise_relu[0][0]    \n",
      "__________________________________________________________________________________________________\n",
      "block_11_project_BN (BatchNorma (None, 32, 32, 96)   384         block_11_project[0][0]           \n",
      "__________________________________________________________________________________________________\n",
      "block_11_add (Add)              (None, 32, 32, 96)   0           block_10_project_BN[0][0]        \n",
      "                                                                 block_11_project_BN[0][0]        \n",
      "__________________________________________________________________________________________________\n",
      "block_12_expand (Conv2D)        (None, 32, 32, 576)  55296       block_11_add[0][0]               \n",
      "__________________________________________________________________________________________________\n",
      "block_12_expand_BN (BatchNormal (None, 32, 32, 576)  2304        block_12_expand[0][0]            \n",
      "__________________________________________________________________________________________________\n",
      "block_12_expand_relu (ReLU)     (None, 32, 32, 576)  0           block_12_expand_BN[0][0]         \n",
      "__________________________________________________________________________________________________\n",
      "block_12_depthwise (DepthwiseCo (None, 32, 32, 576)  5184        block_12_expand_relu[0][0]       \n",
      "__________________________________________________________________________________________________\n",
      "block_12_depthwise_BN (BatchNor (None, 32, 32, 576)  2304        block_12_depthwise[0][0]         \n",
      "__________________________________________________________________________________________________\n",
      "block_12_depthwise_relu (ReLU)  (None, 32, 32, 576)  0           block_12_depthwise_BN[0][0]      \n",
      "__________________________________________________________________________________________________\n",
      "block_12_project (Conv2D)       (None, 32, 32, 96)   55296       block_12_depthwise_relu[0][0]    \n",
      "__________________________________________________________________________________________________\n",
      "block_12_project_BN (BatchNorma (None, 32, 32, 96)   384         block_12_project[0][0]           \n",
      "__________________________________________________________________________________________________\n",
      "block_12_add (Add)              (None, 32, 32, 96)   0           block_11_add[0][0]               \n",
      "                                                                 block_12_project_BN[0][0]        \n",
      "__________________________________________________________________________________________________\n",
      "block_13_expand (Conv2D)        (None, 32, 32, 576)  55296       block_12_add[0][0]               \n",
      "__________________________________________________________________________________________________\n",
      "block_13_expand_BN (BatchNormal (None, 32, 32, 576)  2304        block_13_expand[0][0]            \n",
      "__________________________________________________________________________________________________\n",
      "block_13_expand_relu (ReLU)     (None, 32, 32, 576)  0           block_13_expand_BN[0][0]         \n",
      "__________________________________________________________________________________________________\n",
      "conv2d_transpose_12 (Conv2DTran (None, 64, 64, 512)  1180160     block_13_expand_relu[0][0]       \n",
      "__________________________________________________________________________________________________\n",
      "concatenate_12 (Concatenate)    (None, 64, 64, 704)  0           conv2d_transpose_12[0][0]        \n",
      "                                                                 block_6_expand_relu[0][0]        \n",
      "__________________________________________________________________________________________________\n",
      "conv2d_27 (Conv2D)              (None, 64, 64, 512)  3244544     concatenate_12[0][0]             \n",
      "__________________________________________________________________________________________________\n",
      "batch_normalization_24 (BatchNo (None, 64, 64, 512)  2048        conv2d_27[0][0]                  \n",
      "__________________________________________________________________________________________________\n",
      "activation_24 (Activation)      (None, 64, 64, 512)  0           batch_normalization_24[0][0]     \n",
      "__________________________________________________________________________________________________\n",
      "conv2d_28 (Conv2D)              (None, 64, 64, 512)  2359808     activation_24[0][0]              \n",
      "__________________________________________________________________________________________________\n",
      "batch_normalization_25 (BatchNo (None, 64, 64, 512)  2048        conv2d_28[0][0]                  \n",
      "__________________________________________________________________________________________________\n",
      "activation_25 (Activation)      (None, 64, 64, 512)  0           batch_normalization_25[0][0]     \n",
      "__________________________________________________________________________________________________\n",
      "conv2d_transpose_13 (Conv2DTran (None, 128, 128, 256 524544      activation_25[0][0]              \n",
      "__________________________________________________________________________________________________\n",
      "concatenate_13 (Concatenate)    (None, 128, 128, 400 0           conv2d_transpose_13[0][0]        \n",
      "                                                                 block_3_expand_relu[0][0]        \n",
      "__________________________________________________________________________________________________\n",
      "conv2d_29 (Conv2D)              (None, 128, 128, 256 921856      concatenate_13[0][0]             \n",
      "__________________________________________________________________________________________________\n",
      "batch_normalization_26 (BatchNo (None, 128, 128, 256 1024        conv2d_29[0][0]                  \n",
      "__________________________________________________________________________________________________\n",
      "activation_26 (Activation)      (None, 128, 128, 256 0           batch_normalization_26[0][0]     \n",
      "__________________________________________________________________________________________________\n",
      "conv2d_30 (Conv2D)              (None, 128, 128, 256 590080      activation_26[0][0]              \n",
      "__________________________________________________________________________________________________\n",
      "batch_normalization_27 (BatchNo (None, 128, 128, 256 1024        conv2d_30[0][0]                  \n",
      "__________________________________________________________________________________________________\n",
      "activation_27 (Activation)      (None, 128, 128, 256 0           batch_normalization_27[0][0]     \n",
      "__________________________________________________________________________________________________\n",
      "conv2d_transpose_14 (Conv2DTran (None, 256, 256, 128 131200      activation_27[0][0]              \n",
      "__________________________________________________________________________________________________\n",
      "concatenate_14 (Concatenate)    (None, 256, 256, 224 0           conv2d_transpose_14[0][0]        \n",
      "                                                                 block_1_expand_relu[0][0]        \n",
      "__________________________________________________________________________________________________\n",
      "conv2d_31 (Conv2D)              (None, 256, 256, 128 258176      concatenate_14[0][0]             \n",
      "__________________________________________________________________________________________________\n",
      "batch_normalization_28 (BatchNo (None, 256, 256, 128 512         conv2d_31[0][0]                  \n",
      "__________________________________________________________________________________________________\n",
      "activation_28 (Activation)      (None, 256, 256, 128 0           batch_normalization_28[0][0]     \n",
      "__________________________________________________________________________________________________\n",
      "conv2d_32 (Conv2D)              (None, 256, 256, 128 147584      activation_28[0][0]              \n",
      "__________________________________________________________________________________________________\n",
      "batch_normalization_29 (BatchNo (None, 256, 256, 128 512         conv2d_32[0][0]                  \n",
      "__________________________________________________________________________________________________\n",
      "activation_29 (Activation)      (None, 256, 256, 128 0           batch_normalization_29[0][0]     \n",
      "__________________________________________________________________________________________________\n",
      "conv2d_transpose_15 (Conv2DTran (None, 512, 512, 64) 32832       activation_29[0][0]              \n",
      "__________________________________________________________________________________________________\n",
      "concatenate_15 (Concatenate)    (None, 512, 512, 67) 0           conv2d_transpose_15[0][0]        \n",
      "                                                                 input_8[0][0]                    \n",
      "__________________________________________________________________________________________________\n",
      "conv2d_33 (Conv2D)              (None, 512, 512, 64) 38656       concatenate_15[0][0]             \n",
      "__________________________________________________________________________________________________\n",
      "batch_normalization_30 (BatchNo (None, 512, 512, 64) 256         conv2d_33[0][0]                  \n",
      "__________________________________________________________________________________________________\n",
      "activation_30 (Activation)      (None, 512, 512, 64) 0           batch_normalization_30[0][0]     \n",
      "__________________________________________________________________________________________________\n",
      "conv2d_34 (Conv2D)              (None, 512, 512, 64) 36928       activation_30[0][0]              \n",
      "__________________________________________________________________________________________________\n",
      "batch_normalization_31 (BatchNo (None, 512, 512, 64) 256         conv2d_34[0][0]                  \n",
      "__________________________________________________________________________________________________\n",
      "activation_31 (Activation)      (None, 512, 512, 64) 0           batch_normalization_31[0][0]     \n",
      "__________________________________________________________________________________________________\n",
      "conv2d_35 (Conv2D)              (None, 512, 512, 1)  65          activation_31[0][0]              \n",
      "==================================================================================================\n",
      "Total params: 10,090,369\n",
      "Trainable params: 10,069,249\n",
      "Non-trainable params: 21,120\n",
      "__________________________________________________________________________________________________\n"
     ]
    }
   ],
   "source": [
    "import tensorflow as tf\n",
    "from tensorflow.keras.layers import Conv2D, BatchNormalization, Activation, MaxPool2D, Conv2DTranspose, Concatenate, Input\n",
    "from tensorflow.keras.models import Model\n",
    "from tensorflow.keras.applications import MobileNetV2\n",
    "\n",
    "def conv_block(inputs, num_filters):\n",
    "    x = Conv2D(num_filters, (3, 3), padding=\"same\")(inputs)\n",
    "    x = BatchNormalization()(x)\n",
    "    x = Activation(\"relu\")(x)\n",
    "    x = Conv2D(num_filters, (3, 3), padding=\"same\")(x)\n",
    "    x = BatchNormalization()(x)\n",
    "    x = Activation(\"relu\")(x)\n",
    "    return x\n",
    "\n",
    "def decoder_block(inputs, skip, num_filters):\n",
    "    x = Conv2DTranspose(num_filters, (2, 2), strides=2, padding=\"same\")(inputs)\n",
    "    x = Concatenate()([x, skip])\n",
    "    x = conv_block(x, num_filters)\n",
    "    return x\n",
    "\n",
    "def build_mobilenetv2_unet(input_shape, classes = 1):    ## (512, 512, 3)\n",
    "    \"\"\" Input \"\"\"\n",
    "    inputs = Input(shape=input_shape)\n",
    "    \"\"\" Pre-trained MobileNetV2 \"\"\"\n",
    "    encoder = MobileNetV2(include_top=False, weights=\"imagenet\", input_tensor=inputs, alpha=1.0)\n",
    "    \"\"\" Encoder \"\"\"\n",
    "    s1 = encoder.get_layer(\"input_8\").output                ## (512 x 512)\n",
    "    s2 = encoder.get_layer(\"block_1_expand_relu\").output    ## (256 x 256)\n",
    "    s3 = encoder.get_layer(\"block_3_expand_relu\").output    ## (128 x 128)\n",
    "    s4 = encoder.get_layer(\"block_6_expand_relu\").output    ## (64 x 64)\n",
    "    \"\"\" Bridge \"\"\"\n",
    "    b1 = encoder.get_layer(\"block_13_expand_relu\").output   ## (32 x 32)\n",
    "    \"\"\" Decoder \"\"\"\n",
    "    d1 = decoder_block(b1, s4, 512)                         ## (64 x 64)\n",
    "    d2 = decoder_block(d1, s3, 256)                         ## (128 x 128)\n",
    "    d3 = decoder_block(d2, s2, 128)                         ## (256 x 256)\n",
    "    d4 = decoder_block(d3, s1, 64)                          ## (512 x 512)\n",
    "    \"\"\" Output \"\"\"\n",
    "    outputs = Conv2D(classes, (1, 1), padding=\"same\", activation=\"sigmoid\")(d4)\n",
    "    model = Model(inputs, outputs, name=\"MobileNetV2_U-Net\")\n",
    "    return model\n",
    "\n",
    "model = build_mobilenetv2_unet((512, 512, 3), classes = 1)\n",
    "# model.summary()"
   ]
  },
  {
   "cell_type": "markdown",
   "metadata": {
    "id": "RvfAgAE4QUjB"
   },
   "source": [
    "# Strating training"
   ]
  },
  {
   "cell_type": "code",
   "execution_count": 24,
   "metadata": {
    "colab": {
     "base_uri": "https://localhost:8080/",
     "height": 1000
    },
    "id": "c7qYgfu9W0Gi",
    "outputId": "411de49f-a7c4-40ce-edfe-b52dc5f448c3"
   },
   "outputs": [
    {
     "name": "stdout",
     "output_type": "stream",
     "text": [
      "env: SM_FRAMEWORK=tf.keras\n",
      "WARNING:tensorflow:`period` argument is deprecated. Please use `save_freq` to specify the frequency in number of samples seen.\n",
      "WARNING:tensorflow:sample_weight modes were coerced from\n",
      "  ...\n",
      "    to  \n",
      "  ['...']\n",
      "WARNING:tensorflow:sample_weight modes were coerced from\n",
      "  ...\n",
      "    to  \n",
      "  ['...']\n",
      "Train for 178 steps, validate for 45 steps\n",
      "Epoch 1/100\n",
      "178/178 [==============================] - 418s 2s/step - loss: 1.1215 - precision: 0.6940 - recall: 0.7581 - f1-score: 0.7168 - iou_score: 0.5660 - val_loss: 3.8328 - val_precision: 0.3239 - val_recall: 0.0337 - val_f1-score: 0.0609 - val_iou_score: 0.0314\n",
      "Epoch 2/100\n",
      "178/178 [==============================] - 418s 2s/step - loss: 0.8551 - precision: 0.7795 - recall: 0.8241 - f1-score: 0.7950 - iou_score: 0.6617 - val_loss: 3.4974 - val_precision: 0.3578 - val_recall: 0.1597 - val_f1-score: 0.2191 - val_iou_score: 0.1232\n",
      "Epoch 3/100\n",
      "178/178 [==============================] - 409s 2s/step - loss: 0.7320 - precision: 0.8189 - recall: 0.8518 - f1-score: 0.8284 - iou_score: 0.7093 - val_loss: 3.0276 - val_precision: 0.2993 - val_recall: 0.2147 - val_f1-score: 0.2474 - val_iou_score: 0.1414\n",
      "Epoch 4/100\n",
      "178/178 [==============================] - 402s 2s/step - loss: 0.6860 - precision: 0.8309 - recall: 0.8607 - f1-score: 0.8404 - iou_score: 0.7269 - val_loss: 3.0513 - val_precision: 0.3389 - val_recall: 0.4125 - val_f1-score: 0.3686 - val_iou_score: 0.2268\n",
      "Epoch 5/100\n",
      "177/178 [============================>.] - ETA: 2s - loss: 0.6586 - precision: 0.8393 - recall: 0.8684 - f1-score: 0.8484 - iou_score: 0.7385\n",
      "Epoch 00005: saving model to /content/Unet_MobilenetV2_resnet50_Human_Seg_000+5.h5\n",
      "178/178 [==============================] - 412s 2s/step - loss: 0.6579 - precision: 0.8394 - recall: 0.8687 - f1-score: 0.8486 - iou_score: 0.7388 - val_loss: 2.6551 - val_precision: 0.3434 - val_recall: 0.3323 - val_f1-score: 0.3362 - val_iou_score: 0.2023\n",
      "Epoch 6/100\n",
      "178/178 [==============================] - 408s 2s/step - loss: 0.6239 - precision: 0.8498 - recall: 0.8743 - f1-score: 0.8566 - iou_score: 0.7517 - val_loss: 2.3596 - val_precision: 0.3504 - val_recall: 0.2843 - val_f1-score: 0.3110 - val_iou_score: 0.1845\n",
      "Epoch 7/100\n",
      "178/178 [==============================] - 409s 2s/step - loss: 0.5971 - precision: 0.8538 - recall: 0.8829 - f1-score: 0.8632 - iou_score: 0.7617 - val_loss: 2.8731 - val_precision: 0.4003 - val_recall: 0.3896 - val_f1-score: 0.3922 - val_iou_score: 0.2443\n",
      "Epoch 8/100\n",
      "178/178 [==============================] - 403s 2s/step - loss: 0.5644 - precision: 0.8665 - recall: 0.8866 - f1-score: 0.8721 - iou_score: 0.7751 - val_loss: 3.2238 - val_precision: 0.4003 - val_recall: 0.3677 - val_f1-score: 0.3810 - val_iou_score: 0.2362\n",
      "Epoch 9/100\n",
      "178/178 [==============================] - 411s 2s/step - loss: 0.5117 - precision: 0.8780 - recall: 0.8974 - f1-score: 0.8841 - iou_score: 0.7937 - val_loss: 2.7943 - val_precision: 0.3609 - val_recall: 0.5751 - val_f1-score: 0.4393 - val_iou_score: 0.2828\n",
      "Epoch 10/100\n",
      "177/178 [============================>.] - ETA: 2s - loss: 0.5296 - precision: 0.8742 - recall: 0.8939 - f1-score: 0.8806 - iou_score: 0.7882\n",
      "Epoch 00010: saving model to /content/Unet_MobilenetV2_resnet50_Human_Seg_000+10.h5\n",
      "178/178 [==============================] - 407s 2s/step - loss: 0.5285 - precision: 0.8742 - recall: 0.8942 - f1-score: 0.8808 - iou_score: 0.7885 - val_loss: 3.1178 - val_precision: 0.3453 - val_recall: 0.6401 - val_f1-score: 0.4456 - val_iou_score: 0.2880\n",
      "Epoch 11/100\n",
      "177/178 [============================>.] - ETA: 2s - loss: 0.4748 - precision: 0.8854 - recall: 0.9064 - f1-score: 0.8931 - iou_score: 0.8085\n",
      "Epoch 00011: ReduceLROnPlateau reducing learning rate to 0.0009999999776482583.\n",
      "178/178 [==============================] - 403s 2s/step - loss: 0.4756 - precision: 0.8846 - recall: 0.9066 - f1-score: 0.8928 - iou_score: 0.8080 - val_loss: 2.8416 - val_precision: 0.3582 - val_recall: 0.6816 - val_f1-score: 0.4664 - val_iou_score: 0.3057\n",
      "Epoch 12/100\n",
      "178/178 [==============================] - 406s 2s/step - loss: 0.3802 - precision: 0.9095 - recall: 0.9225 - f1-score: 0.9148 - iou_score: 0.8441 - val_loss: 2.7645 - val_precision: 0.3974 - val_recall: 0.8548 - val_f1-score: 0.5396 - val_iou_score: 0.3716\n",
      "Epoch 13/100\n",
      "178/178 [==============================] - 409s 2s/step - loss: 0.3245 - precision: 0.9224 - recall: 0.9354 - f1-score: 0.9281 - iou_score: 0.8667 - val_loss: 2.1717 - val_precision: 0.4496 - val_recall: 0.7607 - val_f1-score: 0.5612 - val_iou_score: 0.3939\n",
      "Epoch 14/100\n",
      "178/178 [==============================] - 407s 2s/step - loss: 0.3070 - precision: 0.9298 - recall: 0.9377 - f1-score: 0.9333 - iou_score: 0.8755 - val_loss: 1.6321 - val_precision: 0.6067 - val_recall: 0.6999 - val_f1-score: 0.6447 - val_iou_score: 0.4785\n",
      "Epoch 15/100\n",
      "177/178 [============================>.] - ETA: 2s - loss: 0.2882 - precision: 0.9330 - recall: 0.9428 - f1-score: 0.9375 - iou_score: 0.8828\n",
      "Epoch 00015: saving model to /content/Unet_MobilenetV2_resnet50_Human_Seg_000+15.h5\n",
      "178/178 [==============================] - 416s 2s/step - loss: 0.2875 - precision: 0.9331 - recall: 0.9430 - f1-score: 0.9376 - iou_score: 0.8830 - val_loss: 1.2217 - val_precision: 0.6965 - val_recall: 0.7461 - val_f1-score: 0.7166 - val_iou_score: 0.5613\n",
      "Epoch 16/100\n",
      "178/178 [==============================] - 415s 2s/step - loss: 0.2779 - precision: 0.9360 - recall: 0.9457 - f1-score: 0.9404 - iou_score: 0.8881 - val_loss: 0.9578 - val_precision: 0.8176 - val_recall: 0.7485 - val_f1-score: 0.7792 - val_iou_score: 0.6406\n",
      "Epoch 17/100\n",
      "178/178 [==============================] - 407s 2s/step - loss: 0.2641 - precision: 0.9382 - recall: 0.9493 - f1-score: 0.9433 - iou_score: 0.8932 - val_loss: 0.7291 - val_precision: 0.8642 - val_recall: 0.8274 - val_f1-score: 0.8440 - val_iou_score: 0.7316\n",
      "Epoch 18/100\n",
      "178/178 [==============================] - 411s 2s/step - loss: 0.2547 - precision: 0.9426 - recall: 0.9490 - f1-score: 0.9455 - iou_score: 0.8969 - val_loss: 0.6964 - val_precision: 0.9177 - val_recall: 0.7898 - val_f1-score: 0.8476 - val_iou_score: 0.7374\n",
      "Epoch 19/100\n",
      "178/178 [==============================] - 408s 2s/step - loss: 0.2433 - precision: 0.9447 - recall: 0.9516 - f1-score: 0.9478 - iou_score: 0.9012 - val_loss: 0.6564 - val_precision: 0.9352 - val_recall: 0.7935 - val_f1-score: 0.8575 - val_iou_score: 0.7523\n",
      "Epoch 20/100\n",
      "177/178 [============================>.] - ETA: 2s - loss: 0.2316 - precision: 0.9462 - recall: 0.9557 - f1-score: 0.9506 - iou_score: 0.9063\n",
      "Epoch 00020: saving model to /content/Unet_MobilenetV2_resnet50_Human_Seg_000+20.h5\n",
      "178/178 [==============================] - 409s 2s/step - loss: 0.2319 - precision: 0.9462 - recall: 0.9555 - f1-score: 0.9505 - iou_score: 0.9061 - val_loss: 0.7289 - val_precision: 0.9493 - val_recall: 0.7686 - val_f1-score: 0.8486 - val_iou_score: 0.7383\n",
      "Epoch 21/100\n",
      "178/178 [==============================] - 412s 2s/step - loss: 0.2300 - precision: 0.9476 - recall: 0.9551 - f1-score: 0.9509 - iou_score: 0.9069 - val_loss: 0.6076 - val_precision: 0.9381 - val_recall: 0.8140 - val_f1-score: 0.8706 - val_iou_score: 0.7719\n",
      "Epoch 22/100\n",
      "178/178 [==============================] - 406s 2s/step - loss: 0.2100 - precision: 0.9522 - recall: 0.9593 - f1-score: 0.9555 - iou_score: 0.9151 - val_loss: 0.6492 - val_precision: 0.9515 - val_recall: 0.8014 - val_f1-score: 0.8691 - val_iou_score: 0.7708\n",
      "Epoch 23/100\n",
      "178/178 [==============================] - 409s 2s/step - loss: 0.1978 - precision: 0.9553 - recall: 0.9612 - f1-score: 0.9581 - iou_score: 0.9197 - val_loss: 0.6768 - val_precision: 0.9461 - val_recall: 0.7938 - val_f1-score: 0.8624 - val_iou_score: 0.7595\n",
      "Epoch 24/100\n",
      "178/178 [==============================] - 412s 2s/step - loss: 0.2005 - precision: 0.9553 - recall: 0.9607 - f1-score: 0.9578 - iou_score: 0.9193 - val_loss: 0.6146 - val_precision: 0.9530 - val_recall: 0.7986 - val_f1-score: 0.8677 - val_iou_score: 0.7685\n",
      "Epoch 25/100\n",
      "177/178 [============================>.] - ETA: 2s - loss: 0.1909 - precision: 0.9568 - recall: 0.9629 - f1-score: 0.9597 - iou_score: 0.9227\n",
      "Epoch 00025: saving model to /content/Unet_MobilenetV2_resnet50_Human_Seg_000+25.h5\n",
      "178/178 [==============================] - 409s 2s/step - loss: 0.1907 - precision: 0.9569 - recall: 0.9628 - f1-score: 0.9597 - iou_score: 0.9228 - val_loss: 0.5227 - val_precision: 0.9397 - val_recall: 0.8587 - val_f1-score: 0.8968 - val_iou_score: 0.8137\n",
      "Epoch 26/100\n",
      " 43/178 [======>.......................] - ETA: 4:33 - loss: 0.1793 - precision: 0.9581 - recall: 0.9670 - f1-score: 0.9625 - iou_score: 0.9278WARNING:tensorflow:Reduce LR on plateau conditioned on metric `val_loss` which is not available. Available metrics are: loss,precision,recall,f1-score,iou_score,lr\n",
      "WARNING:tensorflow:Early stopping conditioned on metric `val_loss` which is not available. Available metrics are: loss,precision,recall,f1-score,iou_score,lr\n",
      " 43/178 [======>.......................] - ETA: 4:38 - loss: 0.1793 - precision: 0.9581 - recall: 0.9670 - f1-score: 0.9625 - iou_score: 0.9278"
     ]
    },
    {
     "ename": "KeyboardInterrupt",
     "evalue": "ignored",
     "output_type": "error",
     "traceback": [
      "\u001b[0;31m---------------------------------------------------------------------------\u001b[0m",
      "\u001b[0;31mKeyboardInterrupt\u001b[0m                         Traceback (most recent call last)",
      "\u001b[0;32m<ipython-input-24-9bf23b59d7ee>\u001b[0m in \u001b[0;36m<module>\u001b[0;34m()\u001b[0m\n\u001b[1;32m     84\u001b[0m     \u001b[0msteps_per_epoch\u001b[0m\u001b[0;34m=\u001b[0m\u001b[0mtrain_steps\u001b[0m\u001b[0;34m,\u001b[0m\u001b[0;34m\u001b[0m\u001b[0;34m\u001b[0m\u001b[0m\n\u001b[1;32m     85\u001b[0m     \u001b[0mvalidation_steps\u001b[0m\u001b[0;34m=\u001b[0m\u001b[0mtest_steps\u001b[0m\u001b[0;34m,\u001b[0m\u001b[0;34m\u001b[0m\u001b[0;34m\u001b[0m\u001b[0m\n\u001b[0;32m---> 86\u001b[0;31m     \u001b[0mcallbacks\u001b[0m\u001b[0;34m=\u001b[0m\u001b[0mcallbacks\u001b[0m\u001b[0;34m\u001b[0m\u001b[0;34m\u001b[0m\u001b[0m\n\u001b[0m\u001b[1;32m     87\u001b[0m )\n",
      "\u001b[0;32m/usr/local/lib/python3.7/dist-packages/tensorflow_core/python/keras/engine/training.py\u001b[0m in \u001b[0;36mfit\u001b[0;34m(self, x, y, batch_size, epochs, verbose, callbacks, validation_split, validation_data, shuffle, class_weight, sample_weight, initial_epoch, steps_per_epoch, validation_steps, validation_freq, max_queue_size, workers, use_multiprocessing, **kwargs)\u001b[0m\n\u001b[1;32m    817\u001b[0m         \u001b[0mmax_queue_size\u001b[0m\u001b[0;34m=\u001b[0m\u001b[0mmax_queue_size\u001b[0m\u001b[0;34m,\u001b[0m\u001b[0;34m\u001b[0m\u001b[0;34m\u001b[0m\u001b[0m\n\u001b[1;32m    818\u001b[0m         \u001b[0mworkers\u001b[0m\u001b[0;34m=\u001b[0m\u001b[0mworkers\u001b[0m\u001b[0;34m,\u001b[0m\u001b[0;34m\u001b[0m\u001b[0;34m\u001b[0m\u001b[0m\n\u001b[0;32m--> 819\u001b[0;31m         use_multiprocessing=use_multiprocessing)\n\u001b[0m\u001b[1;32m    820\u001b[0m \u001b[0;34m\u001b[0m\u001b[0m\n\u001b[1;32m    821\u001b[0m   def evaluate(self,\n",
      "\u001b[0;32m/usr/local/lib/python3.7/dist-packages/tensorflow_core/python/keras/engine/training_v2.py\u001b[0m in \u001b[0;36mfit\u001b[0;34m(self, model, x, y, batch_size, epochs, verbose, callbacks, validation_split, validation_data, shuffle, class_weight, sample_weight, initial_epoch, steps_per_epoch, validation_steps, validation_freq, max_queue_size, workers, use_multiprocessing, **kwargs)\u001b[0m\n\u001b[1;32m    340\u001b[0m                 \u001b[0mmode\u001b[0m\u001b[0;34m=\u001b[0m\u001b[0mModeKeys\u001b[0m\u001b[0;34m.\u001b[0m\u001b[0mTRAIN\u001b[0m\u001b[0;34m,\u001b[0m\u001b[0;34m\u001b[0m\u001b[0;34m\u001b[0m\u001b[0m\n\u001b[1;32m    341\u001b[0m                 \u001b[0mtraining_context\u001b[0m\u001b[0;34m=\u001b[0m\u001b[0mtraining_context\u001b[0m\u001b[0;34m,\u001b[0m\u001b[0;34m\u001b[0m\u001b[0;34m\u001b[0m\u001b[0m\n\u001b[0;32m--> 342\u001b[0;31m                 total_epochs=epochs)\n\u001b[0m\u001b[1;32m    343\u001b[0m             \u001b[0mcbks\u001b[0m\u001b[0;34m.\u001b[0m\u001b[0mmake_logs\u001b[0m\u001b[0;34m(\u001b[0m\u001b[0mmodel\u001b[0m\u001b[0;34m,\u001b[0m \u001b[0mepoch_logs\u001b[0m\u001b[0;34m,\u001b[0m \u001b[0mtraining_result\u001b[0m\u001b[0;34m,\u001b[0m \u001b[0mModeKeys\u001b[0m\u001b[0;34m.\u001b[0m\u001b[0mTRAIN\u001b[0m\u001b[0;34m)\u001b[0m\u001b[0;34m\u001b[0m\u001b[0;34m\u001b[0m\u001b[0m\n\u001b[1;32m    344\u001b[0m \u001b[0;34m\u001b[0m\u001b[0m\n",
      "\u001b[0;32m/usr/local/lib/python3.7/dist-packages/tensorflow_core/python/keras/engine/training_v2.py\u001b[0m in \u001b[0;36mrun_one_epoch\u001b[0;34m(model, iterator, execution_function, dataset_size, batch_size, strategy, steps_per_epoch, num_samples, mode, training_context, total_epochs)\u001b[0m\n\u001b[1;32m    126\u001b[0m         step=step, mode=mode, size=current_batch_size) as batch_logs:\n\u001b[1;32m    127\u001b[0m       \u001b[0;32mtry\u001b[0m\u001b[0;34m:\u001b[0m\u001b[0;34m\u001b[0m\u001b[0;34m\u001b[0m\u001b[0m\n\u001b[0;32m--> 128\u001b[0;31m         \u001b[0mbatch_outs\u001b[0m \u001b[0;34m=\u001b[0m \u001b[0mexecution_function\u001b[0m\u001b[0;34m(\u001b[0m\u001b[0miterator\u001b[0m\u001b[0;34m)\u001b[0m\u001b[0;34m\u001b[0m\u001b[0;34m\u001b[0m\u001b[0m\n\u001b[0m\u001b[1;32m    129\u001b[0m       \u001b[0;32mexcept\u001b[0m \u001b[0;34m(\u001b[0m\u001b[0mStopIteration\u001b[0m\u001b[0;34m,\u001b[0m \u001b[0merrors\u001b[0m\u001b[0;34m.\u001b[0m\u001b[0mOutOfRangeError\u001b[0m\u001b[0;34m)\u001b[0m\u001b[0;34m:\u001b[0m\u001b[0;34m\u001b[0m\u001b[0;34m\u001b[0m\u001b[0m\n\u001b[1;32m    130\u001b[0m         \u001b[0;31m# TODO(kaftan): File bug about tf function and errors.OutOfRangeError?\u001b[0m\u001b[0;34m\u001b[0m\u001b[0;34m\u001b[0m\u001b[0;34m\u001b[0m\u001b[0m\n",
      "\u001b[0;32m/usr/local/lib/python3.7/dist-packages/tensorflow_core/python/keras/engine/training_v2_utils.py\u001b[0m in \u001b[0;36mexecution_function\u001b[0;34m(input_fn)\u001b[0m\n\u001b[1;32m     96\u001b[0m     \u001b[0;31m# `numpy` translates Tensors to values in Eager mode.\u001b[0m\u001b[0;34m\u001b[0m\u001b[0;34m\u001b[0m\u001b[0;34m\u001b[0m\u001b[0m\n\u001b[1;32m     97\u001b[0m     return nest.map_structure(_non_none_constant_value,\n\u001b[0;32m---> 98\u001b[0;31m                               distributed_function(input_fn))\n\u001b[0m\u001b[1;32m     99\u001b[0m \u001b[0;34m\u001b[0m\u001b[0m\n\u001b[1;32m    100\u001b[0m   \u001b[0;32mreturn\u001b[0m \u001b[0mexecution_function\u001b[0m\u001b[0;34m\u001b[0m\u001b[0;34m\u001b[0m\u001b[0m\n",
      "\u001b[0;32m/usr/local/lib/python3.7/dist-packages/tensorflow_core/python/eager/def_function.py\u001b[0m in \u001b[0;36m__call__\u001b[0;34m(self, *args, **kwds)\u001b[0m\n\u001b[1;32m    566\u001b[0m         \u001b[0mxla_context\u001b[0m\u001b[0;34m.\u001b[0m\u001b[0mExit\u001b[0m\u001b[0;34m(\u001b[0m\u001b[0;34m)\u001b[0m\u001b[0;34m\u001b[0m\u001b[0;34m\u001b[0m\u001b[0m\n\u001b[1;32m    567\u001b[0m     \u001b[0;32melse\u001b[0m\u001b[0;34m:\u001b[0m\u001b[0;34m\u001b[0m\u001b[0;34m\u001b[0m\u001b[0m\n\u001b[0;32m--> 568\u001b[0;31m       \u001b[0mresult\u001b[0m \u001b[0;34m=\u001b[0m \u001b[0mself\u001b[0m\u001b[0;34m.\u001b[0m\u001b[0m_call\u001b[0m\u001b[0;34m(\u001b[0m\u001b[0;34m*\u001b[0m\u001b[0margs\u001b[0m\u001b[0;34m,\u001b[0m \u001b[0;34m**\u001b[0m\u001b[0mkwds\u001b[0m\u001b[0;34m)\u001b[0m\u001b[0;34m\u001b[0m\u001b[0;34m\u001b[0m\u001b[0m\n\u001b[0m\u001b[1;32m    569\u001b[0m \u001b[0;34m\u001b[0m\u001b[0m\n\u001b[1;32m    570\u001b[0m     \u001b[0;32mif\u001b[0m \u001b[0mtracing_count\u001b[0m \u001b[0;34m==\u001b[0m \u001b[0mself\u001b[0m\u001b[0;34m.\u001b[0m\u001b[0m_get_tracing_count\u001b[0m\u001b[0;34m(\u001b[0m\u001b[0;34m)\u001b[0m\u001b[0;34m:\u001b[0m\u001b[0;34m\u001b[0m\u001b[0;34m\u001b[0m\u001b[0m\n",
      "\u001b[0;32m/usr/local/lib/python3.7/dist-packages/tensorflow_core/python/eager/def_function.py\u001b[0m in \u001b[0;36m_call\u001b[0;34m(self, *args, **kwds)\u001b[0m\n\u001b[1;32m    597\u001b[0m       \u001b[0;31m# In this case we have created variables on the first call, so we run the\u001b[0m\u001b[0;34m\u001b[0m\u001b[0;34m\u001b[0m\u001b[0;34m\u001b[0m\u001b[0m\n\u001b[1;32m    598\u001b[0m       \u001b[0;31m# defunned version which is guaranteed to never create variables.\u001b[0m\u001b[0;34m\u001b[0m\u001b[0;34m\u001b[0m\u001b[0;34m\u001b[0m\u001b[0m\n\u001b[0;32m--> 599\u001b[0;31m       \u001b[0;32mreturn\u001b[0m \u001b[0mself\u001b[0m\u001b[0;34m.\u001b[0m\u001b[0m_stateless_fn\u001b[0m\u001b[0;34m(\u001b[0m\u001b[0;34m*\u001b[0m\u001b[0margs\u001b[0m\u001b[0;34m,\u001b[0m \u001b[0;34m**\u001b[0m\u001b[0mkwds\u001b[0m\u001b[0;34m)\u001b[0m  \u001b[0;31m# pylint: disable=not-callable\u001b[0m\u001b[0;34m\u001b[0m\u001b[0;34m\u001b[0m\u001b[0m\n\u001b[0m\u001b[1;32m    600\u001b[0m     \u001b[0;32melif\u001b[0m \u001b[0mself\u001b[0m\u001b[0;34m.\u001b[0m\u001b[0m_stateful_fn\u001b[0m \u001b[0;32mis\u001b[0m \u001b[0;32mnot\u001b[0m \u001b[0;32mNone\u001b[0m\u001b[0;34m:\u001b[0m\u001b[0;34m\u001b[0m\u001b[0;34m\u001b[0m\u001b[0m\n\u001b[1;32m    601\u001b[0m       \u001b[0;31m# Release the lock early so that multiple threads can perform the call\u001b[0m\u001b[0;34m\u001b[0m\u001b[0;34m\u001b[0m\u001b[0;34m\u001b[0m\u001b[0m\n",
      "\u001b[0;32m/usr/local/lib/python3.7/dist-packages/tensorflow_core/python/eager/function.py\u001b[0m in \u001b[0;36m__call__\u001b[0;34m(self, *args, **kwargs)\u001b[0m\n\u001b[1;32m   2361\u001b[0m     \u001b[0;32mwith\u001b[0m \u001b[0mself\u001b[0m\u001b[0;34m.\u001b[0m\u001b[0m_lock\u001b[0m\u001b[0;34m:\u001b[0m\u001b[0;34m\u001b[0m\u001b[0;34m\u001b[0m\u001b[0m\n\u001b[1;32m   2362\u001b[0m       \u001b[0mgraph_function\u001b[0m\u001b[0;34m,\u001b[0m \u001b[0margs\u001b[0m\u001b[0;34m,\u001b[0m \u001b[0mkwargs\u001b[0m \u001b[0;34m=\u001b[0m \u001b[0mself\u001b[0m\u001b[0;34m.\u001b[0m\u001b[0m_maybe_define_function\u001b[0m\u001b[0;34m(\u001b[0m\u001b[0margs\u001b[0m\u001b[0;34m,\u001b[0m \u001b[0mkwargs\u001b[0m\u001b[0;34m)\u001b[0m\u001b[0;34m\u001b[0m\u001b[0;34m\u001b[0m\u001b[0m\n\u001b[0;32m-> 2363\u001b[0;31m     \u001b[0;32mreturn\u001b[0m \u001b[0mgraph_function\u001b[0m\u001b[0;34m.\u001b[0m\u001b[0m_filtered_call\u001b[0m\u001b[0;34m(\u001b[0m\u001b[0margs\u001b[0m\u001b[0;34m,\u001b[0m \u001b[0mkwargs\u001b[0m\u001b[0;34m)\u001b[0m  \u001b[0;31m# pylint: disable=protected-access\u001b[0m\u001b[0;34m\u001b[0m\u001b[0;34m\u001b[0m\u001b[0m\n\u001b[0m\u001b[1;32m   2364\u001b[0m \u001b[0;34m\u001b[0m\u001b[0m\n\u001b[1;32m   2365\u001b[0m   \u001b[0;34m@\u001b[0m\u001b[0mproperty\u001b[0m\u001b[0;34m\u001b[0m\u001b[0;34m\u001b[0m\u001b[0m\n",
      "\u001b[0;32m/usr/local/lib/python3.7/dist-packages/tensorflow_core/python/eager/function.py\u001b[0m in \u001b[0;36m_filtered_call\u001b[0;34m(self, args, kwargs)\u001b[0m\n\u001b[1;32m   1609\u001b[0m          if isinstance(t, (ops.Tensor,\n\u001b[1;32m   1610\u001b[0m                            resource_variable_ops.BaseResourceVariable))),\n\u001b[0;32m-> 1611\u001b[0;31m         self.captured_inputs)\n\u001b[0m\u001b[1;32m   1612\u001b[0m \u001b[0;34m\u001b[0m\u001b[0m\n\u001b[1;32m   1613\u001b[0m   \u001b[0;32mdef\u001b[0m \u001b[0m_call_flat\u001b[0m\u001b[0;34m(\u001b[0m\u001b[0mself\u001b[0m\u001b[0;34m,\u001b[0m \u001b[0margs\u001b[0m\u001b[0;34m,\u001b[0m \u001b[0mcaptured_inputs\u001b[0m\u001b[0;34m,\u001b[0m \u001b[0mcancellation_manager\u001b[0m\u001b[0;34m=\u001b[0m\u001b[0;32mNone\u001b[0m\u001b[0;34m)\u001b[0m\u001b[0;34m:\u001b[0m\u001b[0;34m\u001b[0m\u001b[0;34m\u001b[0m\u001b[0m\n",
      "\u001b[0;32m/usr/local/lib/python3.7/dist-packages/tensorflow_core/python/eager/function.py\u001b[0m in \u001b[0;36m_call_flat\u001b[0;34m(self, args, captured_inputs, cancellation_manager)\u001b[0m\n\u001b[1;32m   1690\u001b[0m       \u001b[0;31m# No tape is watching; skip to running the function.\u001b[0m\u001b[0;34m\u001b[0m\u001b[0;34m\u001b[0m\u001b[0;34m\u001b[0m\u001b[0m\n\u001b[1;32m   1691\u001b[0m       return self._build_call_outputs(self._inference_function.call(\n\u001b[0;32m-> 1692\u001b[0;31m           ctx, args, cancellation_manager=cancellation_manager))\n\u001b[0m\u001b[1;32m   1693\u001b[0m     forward_backward = self._select_forward_and_backward_functions(\n\u001b[1;32m   1694\u001b[0m         \u001b[0margs\u001b[0m\u001b[0;34m,\u001b[0m\u001b[0;34m\u001b[0m\u001b[0;34m\u001b[0m\u001b[0m\n",
      "\u001b[0;32m/usr/local/lib/python3.7/dist-packages/tensorflow_core/python/eager/function.py\u001b[0m in \u001b[0;36mcall\u001b[0;34m(self, ctx, args, cancellation_manager)\u001b[0m\n\u001b[1;32m    543\u001b[0m               \u001b[0minputs\u001b[0m\u001b[0;34m=\u001b[0m\u001b[0margs\u001b[0m\u001b[0;34m,\u001b[0m\u001b[0;34m\u001b[0m\u001b[0;34m\u001b[0m\u001b[0m\n\u001b[1;32m    544\u001b[0m               \u001b[0mattrs\u001b[0m\u001b[0;34m=\u001b[0m\u001b[0;34m(\u001b[0m\u001b[0;34m\"executor_type\"\u001b[0m\u001b[0;34m,\u001b[0m \u001b[0mexecutor_type\u001b[0m\u001b[0;34m,\u001b[0m \u001b[0;34m\"config_proto\"\u001b[0m\u001b[0;34m,\u001b[0m \u001b[0mconfig\u001b[0m\u001b[0;34m)\u001b[0m\u001b[0;34m,\u001b[0m\u001b[0;34m\u001b[0m\u001b[0;34m\u001b[0m\u001b[0m\n\u001b[0;32m--> 545\u001b[0;31m               ctx=ctx)\n\u001b[0m\u001b[1;32m    546\u001b[0m         \u001b[0;32melse\u001b[0m\u001b[0;34m:\u001b[0m\u001b[0;34m\u001b[0m\u001b[0;34m\u001b[0m\u001b[0m\n\u001b[1;32m    547\u001b[0m           outputs = execute.execute_with_cancellation(\n",
      "\u001b[0;32m/usr/local/lib/python3.7/dist-packages/tensorflow_core/python/eager/execute.py\u001b[0m in \u001b[0;36mquick_execute\u001b[0;34m(op_name, num_outputs, inputs, attrs, ctx, name)\u001b[0m\n\u001b[1;32m     59\u001b[0m     tensors = pywrap_tensorflow.TFE_Py_Execute(ctx._handle, device_name,\n\u001b[1;32m     60\u001b[0m                                                \u001b[0mop_name\u001b[0m\u001b[0;34m,\u001b[0m \u001b[0minputs\u001b[0m\u001b[0;34m,\u001b[0m \u001b[0mattrs\u001b[0m\u001b[0;34m,\u001b[0m\u001b[0;34m\u001b[0m\u001b[0;34m\u001b[0m\u001b[0m\n\u001b[0;32m---> 61\u001b[0;31m                                                num_outputs)\n\u001b[0m\u001b[1;32m     62\u001b[0m   \u001b[0;32mexcept\u001b[0m \u001b[0mcore\u001b[0m\u001b[0;34m.\u001b[0m\u001b[0m_NotOkStatusException\u001b[0m \u001b[0;32mas\u001b[0m \u001b[0me\u001b[0m\u001b[0;34m:\u001b[0m\u001b[0;34m\u001b[0m\u001b[0;34m\u001b[0m\u001b[0m\n\u001b[1;32m     63\u001b[0m     \u001b[0;32mif\u001b[0m \u001b[0mname\u001b[0m \u001b[0;32mis\u001b[0m \u001b[0;32mnot\u001b[0m \u001b[0;32mNone\u001b[0m\u001b[0;34m:\u001b[0m\u001b[0;34m\u001b[0m\u001b[0;34m\u001b[0m\u001b[0m\n",
      "\u001b[0;31mKeyboardInterrupt\u001b[0m: "
     ]
    }
   ],
   "source": [
    "import os\n",
    "os.environ[\"TF_CPP_MIN_LOG_LEVEL\"] = \"2\"\n",
    "%env SM_FRAMEWORK=tf.keras\n",
    "\n",
    "import numpy as np\n",
    "import tensorflow as tf\n",
    "# from model import build_unet\n",
    "# from data import load_dataset, tf_dataset\n",
    "from segmentation_models.losses import bce_jaccard_loss, dice_loss, JaccardLoss\n",
    "from segmentation_models.metrics import iou_score, f1_score, precision, recall\n",
    "from tensorflow.keras.callbacks import ModelCheckpoint, ReduceLROnPlateau, CSVLogger, EarlyStopping\n",
    "\n",
    "\"\"\" Hyperparamaters \"\"\"\n",
    "dataset_path = \"supervisely_person_clean_2667_img\"\n",
    "input_shape = (512, 512, 3)\n",
    "batch_size = 12\n",
    "epochs = 100\n",
    "lr = 1e-2\n",
    "# model_path = \"unet.h5\"\n",
    "# csv_path = \"data.csv\"\n",
    "\n",
    "\"\"\" Load the dataset \"\"\"\n",
    "# (train_x, train_y), (test_x, test_y) = load_dataset(dataset_path)\n",
    "# print(f\"Train: {len(train_x)} - {len(train_y)}\")\n",
    "# print(f\"Test: {len(test_x)} - {len(test_y)}\")\n",
    "\n",
    "# train_dataset = tf_dataset(train_x, train_y, batch=batch_size)\n",
    "# test_dataset = tf_dataset(test_x, test_y, batch=batch_size)\n",
    "\n",
    "\"\"\" callbacks \"\"\"\n",
    "checkpoint_filepath = '/content/Unet_MobilenetV2_resnet50_Human_Seg_000+{epoch}.h5'\n",
    "model_checkpoint_callback = ModelCheckpoint(\n",
    "    filepath=checkpoint_filepath,\n",
    "    save_weights_only=False,\n",
    "    monitor='val_iou_score',\n",
    "    mode='max',\n",
    "    verbose = 1,\n",
    "    period = 5,\n",
    "    save_best_only=False\n",
    "    )\n",
    "\n",
    "callbacks = [\n",
    "    model_checkpoint_callback,\n",
    "    ReduceLROnPlateau(monitor=\"val_loss\", patience=5, factor=0.1, verbose=1),\n",
    "#     CSVLogger(csv_path),\n",
    "    EarlyStopping(monitor=\"val_loss\", patience=10)\n",
    "]\n",
    "\n",
    "\"\"\" steps per epochs \"\"\"\n",
    "# train_steps = len(train_x)//batch_size\n",
    "# if len(train_x) % batch_size != 0:\n",
    "#     train_steps += 1\n",
    "\n",
    "# test_steps = len(test_x)//batch_size\n",
    "# if len(test_x) % batch_size != 0:\n",
    "#     test_steps += 1\n",
    "\n",
    "# print(train_steps, test_steps)\n",
    "\n",
    "\n",
    "\"\"\" Model training \"\"\"\n",
    "ls = dice_loss + bce_jaccard_loss\n",
    "metrics = [precision, recall, f1_score, iou_score] \n",
    "\n",
    "for layer in model.layers:\n",
    "  # if layer.name == \"decoder_conv0_depthwise\":\n",
    "  #   break\n",
    "  # else:\n",
    "  layer.trainable = True\n",
    "# for layer in model.layers:\n",
    "#   print(layer.name,layer.trainable)\n",
    "\n",
    "model.compile(\n",
    "    loss=ls,\n",
    "    optimizer=tf.keras.optimizers.Adam(lr),\n",
    "    metrics=metrics\n",
    ")\n",
    "# model.summary()\n",
    "\n",
    "model.fit(\n",
    "    train_generator,\n",
    "    validation_data=val_generator,\n",
    "    epochs=epochs,\n",
    "    steps_per_epoch=train_steps,\n",
    "    validation_steps=test_steps,\n",
    "    callbacks=callbacks\n",
    ")\n"
   ]
  },
  {
   "cell_type": "markdown",
   "metadata": {
    "id": "HYMMboQpOdmZ"
   },
   "source": [
    "# Predictions"
   ]
  },
  {
   "cell_type": "code",
   "execution_count": null,
   "metadata": {
    "cellView": "form",
    "id": "j5pmoDJqKb1C"
   },
   "outputs": [],
   "source": [
    "#@title\n",
    "model.load_weights('/content/Unet_MobilenetV2_resnet50_Human_Seg_000+25.h5')\n",
    "model.compile(\n",
    "    loss=ls,\n",
    "    # optimizer=tf.keras.optimizers.Adam(lr),\n",
    "    metrics=metrics\n",
    ")"
   ]
  },
  {
   "cell_type": "code",
   "execution_count": 47,
   "metadata": {
    "cellView": "form",
    "colab": {
     "base_uri": "https://localhost:8080/"
    },
    "id": "miwbmm7XaJH0",
    "outputId": "02b902bd-9daa-4e7e-d5bb-dce44e93d037"
   },
   "outputs": [
    {
     "data": {
      "text/plain": [
       "(1, 512, 512, 3)"
      ]
     },
     "execution_count": 47,
     "metadata": {
      "tags": []
     },
     "output_type": "execute_result"
    }
   ],
   "source": [
    "#@title\n",
    "img = cv2.imread('SJ.jpg')\n",
    "img = cv2.resize(img, (512, 512))\n",
    "img = img/255.0\n",
    "img = img.astype(np.float32)\n",
    "img = img.reshape(1, 512, 512, 3)\n",
    "img.shape"
   ]
  },
  {
   "cell_type": "code",
   "execution_count": 48,
   "metadata": {
    "cellView": "form",
    "colab": {
     "base_uri": "https://localhost:8080/"
    },
    "id": "YBt3LmPmIJ3y",
    "outputId": "b9203bcc-62ef-40e2-ab1e-dc8735d93287"
   },
   "outputs": [
    {
     "data": {
      "text/plain": [
       "(512, 512)"
      ]
     },
     "execution_count": 48,
     "metadata": {
      "tags": []
     },
     "output_type": "execute_result"
    }
   ],
   "source": [
    "#@title\n",
    "\n",
    "pred = model.predict(img)\n",
    "pred = pred.reshape(512, 512)\n",
    "pred.shape"
   ]
  },
  {
   "cell_type": "code",
   "execution_count": 49,
   "metadata": {
    "cellView": "form",
    "colab": {
     "base_uri": "https://localhost:8080/"
    },
    "id": "aAM3Mg8eIhE2",
    "outputId": "0e686986-4df2-4f80-9de5-f46ca62f98db"
   },
   "outputs": [
    {
     "data": {
      "text/plain": [
       "True"
      ]
     },
     "execution_count": 49,
     "metadata": {
      "tags": []
     },
     "output_type": "execute_result"
    }
   ],
   "source": [
    "#@title\n",
    "pred = pred * 255\n",
    "pred = pred.astype(np.uint8)\n",
    "cv2.imwrite('pred_SJ.jpg',pred)"
   ]
  },
  {
   "cell_type": "code",
   "execution_count": 50,
   "metadata": {
    "cellView": "form",
    "colab": {
     "base_uri": "https://localhost:8080/"
    },
    "id": "ySJuNUWFJOOi",
    "outputId": "d9478197-abe4-4aa6-94fb-0f4d21af5eba"
   },
   "outputs": [
    {
     "data": {
      "text/plain": [
       "True"
      ]
     },
     "execution_count": 50,
     "metadata": {
      "tags": []
     },
     "output_type": "execute_result"
    }
   ],
   "source": [
    "#@title\n",
    "img = cv2.imread('SJ.jpg')\n",
    "img = cv2.resize(img, (512, 512))\n",
    "\n",
    "pred = np.dstack([pred, pred, pred])\n",
    "overlay = cv2.addWeighted(img, 0.6, pred, 0.4, 0)\n",
    "cv2.imwrite('overlay_SJ.jpg',overlay)"
   ]
  },
  {
   "cell_type": "code",
   "execution_count": null,
   "metadata": {
    "cellView": "form",
    "id": "Q4YL0qVQJ7NC"
   },
   "outputs": [],
   "source": [
    "#@title\n"
   ]
  },
  {
   "cell_type": "code",
   "execution_count": 43,
   "metadata": {
    "cellView": "form",
    "colab": {
     "base_uri": "https://localhost:8080/"
    },
    "id": "s-waejeVKeZu",
    "outputId": "92800715-d6cd-43e3-8b2e-731007b9f286"
   },
   "outputs": [
    {
     "data": {
      "text/plain": [
       "(1, 512, 512, 3)"
      ]
     },
     "execution_count": 43,
     "metadata": {
      "tags": []
     },
     "output_type": "execute_result"
    }
   ],
   "source": [
    "#@title\n",
    "img = cv2.imread('75805310.jpg')\n",
    "img = cv2.resize(img, (512, 512))\n",
    "img = img/255.0\n",
    "img = img.astype(np.float32)\n",
    "img = img.reshape(1, 512, 512, 3)\n",
    "img.shape"
   ]
  },
  {
   "cell_type": "code",
   "execution_count": 44,
   "metadata": {
    "cellView": "form",
    "colab": {
     "base_uri": "https://localhost:8080/"
    },
    "id": "ve9SRlyVKeZw",
    "outputId": "e4908f7d-d899-4a70-bd12-baf60da1528f"
   },
   "outputs": [
    {
     "data": {
      "text/plain": [
       "(512, 512)"
      ]
     },
     "execution_count": 44,
     "metadata": {
      "tags": []
     },
     "output_type": "execute_result"
    }
   ],
   "source": [
    "#@title\n",
    "\n",
    "pred = model.predict(img)\n",
    "pred = pred.reshape(512, 512)\n",
    "pred.shape"
   ]
  },
  {
   "cell_type": "code",
   "execution_count": 45,
   "metadata": {
    "cellView": "form",
    "colab": {
     "base_uri": "https://localhost:8080/"
    },
    "id": "7dBwDclaKeZx",
    "outputId": "3de2dd62-a882-49b2-de15-4594c37726da"
   },
   "outputs": [
    {
     "data": {
      "text/plain": [
       "True"
      ]
     },
     "execution_count": 45,
     "metadata": {
      "tags": []
     },
     "output_type": "execute_result"
    }
   ],
   "source": [
    "#@title\n",
    "pred = pred * 255\n",
    "pred = pred.astype(np.uint8)\n",
    "cv2.imwrite('pred_75805310.jpg',pred)"
   ]
  },
  {
   "cell_type": "code",
   "execution_count": 46,
   "metadata": {
    "cellView": "form",
    "colab": {
     "base_uri": "https://localhost:8080/"
    },
    "id": "UtJXKc0KKeZy",
    "outputId": "fa9f0101-1898-4f61-ba7b-14058c99aa4a"
   },
   "outputs": [
    {
     "data": {
      "text/plain": [
       "True"
      ]
     },
     "execution_count": 46,
     "metadata": {
      "tags": []
     },
     "output_type": "execute_result"
    }
   ],
   "source": [
    "#@title\n",
    "img = cv2.imread('75805310.jpg')\n",
    "img = cv2.resize(img, (512, 512))\n",
    "\n",
    "pred = np.dstack([pred, pred, pred])\n",
    "overlay = cv2.addWeighted(img, 0.6, pred, 0.4, 0)\n",
    "cv2.imwrite('overlay_75805310.jpg',overlay)"
   ]
  },
  {
   "cell_type": "code",
   "execution_count": null,
   "metadata": {
    "cellView": "form",
    "id": "zn8IOOmoKk5b"
   },
   "outputs": [],
   "source": [
    "#@title\n"
   ]
  },
  {
   "cell_type": "code",
   "execution_count": 51,
   "metadata": {
    "cellView": "form",
    "colab": {
     "base_uri": "https://localhost:8080/"
    },
    "id": "TOneVH6_K9qE",
    "outputId": "8bbab8a4-7dfc-444b-b33f-c0354b619eab"
   },
   "outputs": [
    {
     "data": {
      "text/plain": [
       "(1, 512, 512, 3)"
      ]
     },
     "execution_count": 51,
     "metadata": {
      "tags": []
     },
     "output_type": "execute_result"
    }
   ],
   "source": [
    "#@title\n",
    "img = cv2.imread('oldestman.jpg')\n",
    "img = cv2.resize(img, (512, 512))\n",
    "img = img/255.0\n",
    "img = img.astype(np.float32)\n",
    "img = img.reshape(1, 512, 512, 3)\n",
    "img.shape"
   ]
  },
  {
   "cell_type": "code",
   "execution_count": 52,
   "metadata": {
    "cellView": "form",
    "colab": {
     "base_uri": "https://localhost:8080/"
    },
    "id": "B7nQGs10K9qF",
    "outputId": "1c37b0d2-38e7-454b-e56b-e47a25a9cb57"
   },
   "outputs": [
    {
     "data": {
      "text/plain": [
       "(512, 512)"
      ]
     },
     "execution_count": 52,
     "metadata": {
      "tags": []
     },
     "output_type": "execute_result"
    }
   ],
   "source": [
    "#@title\n",
    "\n",
    "pred = model.predict(img)\n",
    "pred = pred.reshape(512, 512)\n",
    "pred.shape"
   ]
  },
  {
   "cell_type": "code",
   "execution_count": 53,
   "metadata": {
    "cellView": "form",
    "colab": {
     "base_uri": "https://localhost:8080/"
    },
    "id": "RBwv_u0rK9qG",
    "outputId": "f2421837-a90f-4973-c679-b8d571a0a4f5"
   },
   "outputs": [
    {
     "data": {
      "text/plain": [
       "True"
      ]
     },
     "execution_count": 53,
     "metadata": {
      "tags": []
     },
     "output_type": "execute_result"
    }
   ],
   "source": [
    "#@title\n",
    "pred = pred * 255\n",
    "pred = pred.astype(np.uint8)\n",
    "cv2.imwrite('pred_oldestman.jpg',pred)"
   ]
  },
  {
   "cell_type": "code",
   "execution_count": 54,
   "metadata": {
    "cellView": "form",
    "colab": {
     "base_uri": "https://localhost:8080/"
    },
    "id": "OQYQPIL1K9qG",
    "outputId": "507a118d-d32e-492c-c096-e592997ce8f9"
   },
   "outputs": [
    {
     "data": {
      "text/plain": [
       "True"
      ]
     },
     "execution_count": 54,
     "metadata": {
      "tags": []
     },
     "output_type": "execute_result"
    }
   ],
   "source": [
    "#@title\n",
    "img = cv2.imread('oldestman.jpg')\n",
    "img = cv2.resize(img, (512, 512))\n",
    "\n",
    "pred = np.dstack([pred, pred, pred])\n",
    "overlay = cv2.addWeighted(img, 0.6, pred, 0.4, 0)\n",
    "cv2.imwrite('overlay_oldestman.jpg',overlay)"
   ]
  },
  {
   "cell_type": "code",
   "execution_count": null,
   "metadata": {
    "cellView": "form",
    "id": "-CQMRzl-Ml70"
   },
   "outputs": [],
   "source": [
    "#@title\n"
   ]
  },
  {
   "cell_type": "code",
   "execution_count": 55,
   "metadata": {
    "cellView": "form",
    "colab": {
     "base_uri": "https://localhost:8080/"
    },
    "id": "afgSBaEMMmi-",
    "outputId": "f94076b0-7452-44ef-9d6f-b45a9412443e"
   },
   "outputs": [
    {
     "data": {
      "text/plain": [
       "(1, 512, 512, 3)"
      ]
     },
     "execution_count": 55,
     "metadata": {
      "tags": []
     },
     "output_type": "execute_result"
    }
   ],
   "source": [
    "#@title\n",
    "img = cv2.imread('multiple.jpg')\n",
    "img = cv2.resize(img, (512, 512))\n",
    "img = img/255.0\n",
    "img = img.astype(np.float32)\n",
    "img = img.reshape(1, 512, 512, 3)\n",
    "img.shape"
   ]
  },
  {
   "cell_type": "code",
   "execution_count": 56,
   "metadata": {
    "cellView": "form",
    "colab": {
     "base_uri": "https://localhost:8080/"
    },
    "id": "lRjpaj4hMmi_",
    "outputId": "63af4ac9-f072-42d9-9724-0e0d5c62d1bb"
   },
   "outputs": [
    {
     "data": {
      "text/plain": [
       "(512, 512)"
      ]
     },
     "execution_count": 56,
     "metadata": {
      "tags": []
     },
     "output_type": "execute_result"
    }
   ],
   "source": [
    "#@title\n",
    "\n",
    "pred = model.predict(img)\n",
    "pred = pred.reshape(512, 512)\n",
    "pred.shape"
   ]
  },
  {
   "cell_type": "code",
   "execution_count": 57,
   "metadata": {
    "cellView": "form",
    "colab": {
     "base_uri": "https://localhost:8080/"
    },
    "id": "j_z2rJG1MmjA",
    "outputId": "437b7fc0-f1cb-4cd3-8341-a6e6976ea8f8"
   },
   "outputs": [
    {
     "data": {
      "text/plain": [
       "True"
      ]
     },
     "execution_count": 57,
     "metadata": {
      "tags": []
     },
     "output_type": "execute_result"
    }
   ],
   "source": [
    "#@title\n",
    "pred = pred * 255\n",
    "pred = pred.astype(np.uint8)\n",
    "cv2.imwrite('pred_multiple.jpg',pred)"
   ]
  },
  {
   "cell_type": "code",
   "execution_count": 58,
   "metadata": {
    "cellView": "form",
    "colab": {
     "base_uri": "https://localhost:8080/"
    },
    "id": "o9nGMmSVMmjA",
    "outputId": "da248814-e862-4a9d-c6f4-97d0230e4af4"
   },
   "outputs": [
    {
     "data": {
      "text/plain": [
       "True"
      ]
     },
     "execution_count": 58,
     "metadata": {
      "tags": []
     },
     "output_type": "execute_result"
    }
   ],
   "source": [
    "#@title\n",
    "img = cv2.imread('multiple.jpg')\n",
    "img = cv2.resize(img, (512, 512))\n",
    "\n",
    "pred = np.dstack([pred, pred, pred])\n",
    "overlay = cv2.addWeighted(img, 0.6, pred, 0.4, 0)\n",
    "cv2.imwrite('overlay_multiple.jpg',overlay)"
   ]
  },
  {
   "cell_type": "code",
   "execution_count": null,
   "metadata": {
    "cellView": "form",
    "id": "eE5olQSRMszz"
   },
   "outputs": [],
   "source": [
    "#@title\n"
   ]
  },
  {
   "cell_type": "code",
   "execution_count": 59,
   "metadata": {
    "cellView": "form",
    "colab": {
     "base_uri": "https://localhost:8080/"
    },
    "id": "CPkuvD2HNYy3",
    "outputId": "2ed45c3f-ae8c-4e9b-ba00-6e6b344b22b9"
   },
   "outputs": [
    {
     "data": {
      "text/plain": [
       "(1, 512, 512, 3)"
      ]
     },
     "execution_count": 59,
     "metadata": {
      "tags": []
     },
     "output_type": "execute_result"
    }
   ],
   "source": [
    "#@title\n",
    "img = cv2.imread('2.jpg')\n",
    "img = cv2.resize(img, (512, 512))\n",
    "img = img/255.0\n",
    "img = img.astype(np.float32)\n",
    "img = img.reshape(1, 512, 512, 3)\n",
    "img.shape"
   ]
  },
  {
   "cell_type": "code",
   "execution_count": 60,
   "metadata": {
    "cellView": "form",
    "colab": {
     "base_uri": "https://localhost:8080/"
    },
    "id": "S9k2h56iNYy5",
    "outputId": "cfc543e6-365d-448f-d28b-51c8d883c868"
   },
   "outputs": [
    {
     "data": {
      "text/plain": [
       "(512, 512)"
      ]
     },
     "execution_count": 60,
     "metadata": {
      "tags": []
     },
     "output_type": "execute_result"
    }
   ],
   "source": [
    "#@title\n",
    "\n",
    "pred = model.predict(img)\n",
    "pred = pred.reshape(512, 512)\n",
    "pred.shape"
   ]
  },
  {
   "cell_type": "code",
   "execution_count": 61,
   "metadata": {
    "cellView": "form",
    "colab": {
     "base_uri": "https://localhost:8080/"
    },
    "id": "s7X8mX-sNYy7",
    "outputId": "278dce01-aceb-4921-e673-8d0c9064e9b6"
   },
   "outputs": [
    {
     "data": {
      "text/plain": [
       "True"
      ]
     },
     "execution_count": 61,
     "metadata": {
      "tags": []
     },
     "output_type": "execute_result"
    }
   ],
   "source": [
    "#@title\n",
    "pred = pred * 255\n",
    "pred = pred.astype(np.uint8)\n",
    "cv2.imwrite('pred_2.jpg',pred)"
   ]
  },
  {
   "cell_type": "code",
   "execution_count": 62,
   "metadata": {
    "cellView": "form",
    "colab": {
     "base_uri": "https://localhost:8080/"
    },
    "id": "oyfJIUjGNYy8",
    "outputId": "f2154df6-3a55-40a2-fbe3-f8f04a670726"
   },
   "outputs": [
    {
     "data": {
      "text/plain": [
       "True"
      ]
     },
     "execution_count": 62,
     "metadata": {
      "tags": []
     },
     "output_type": "execute_result"
    }
   ],
   "source": [
    "#@title\n",
    "img = cv2.imread('2.jpg')\n",
    "img = cv2.resize(img, (512, 512))\n",
    "\n",
    "pred = np.dstack([pred, pred, pred])\n",
    "overlay = cv2.addWeighted(img, 0.6, pred, 0.4, 0)\n",
    "cv2.imwrite('overlay_2.jpg',overlay)"
   ]
  },
  {
   "cell_type": "code",
   "execution_count": null,
   "metadata": {
    "id": "g-3G0dwWNcAm"
   },
   "outputs": [],
   "source": []
  },
  {
   "cell_type": "markdown",
   "metadata": {
    "id": "3PD8gTu0OrL3"
   },
   "source": [
    "# Retraining from 25 epochs to 100"
   ]
  },
  {
   "cell_type": "code",
   "execution_count": null,
   "metadata": {
    "colab": {
     "base_uri": "https://localhost:8080/"
    },
    "id": "NDH1wRg2M7aA",
    "outputId": "430b0191-fd64-489b-a88f-afbc457bad8f"
   },
   "outputs": [
    {
     "name": "stdout",
     "output_type": "stream",
     "text": [
      "env: SM_FRAMEWORK=tf.keras\n",
      "WARNING:tensorflow:`period` argument is deprecated. Please use `save_freq` to specify the frequency in number of samples seen.\n",
      "WARNING:tensorflow:sample_weight modes were coerced from\n",
      "  ...\n",
      "    to  \n",
      "  ['...']\n",
      "WARNING:tensorflow:sample_weight modes were coerced from\n",
      "  ...\n",
      "    to  \n",
      "  ['...']\n",
      "Train for 178 steps, validate for 45 steps\n",
      "Epoch 1/75\n",
      "178/178 [==============================] - 416s 2s/step - loss: 0.1830 - precision: 0.9585 - recall: 0.9649 - f1-score: 0.9615 - iou_score: 0.9261 - val_loss: 0.5633 - val_precision: 0.9475 - val_recall: 0.8286 - val_f1-score: 0.8831 - val_iou_score: 0.7922\n",
      "Epoch 2/75\n",
      "178/178 [==============================] - 410s 2s/step - loss: 0.1805 - precision: 0.9598 - recall: 0.9654 - f1-score: 0.9624 - iou_score: 0.9277 - val_loss: 0.5512 - val_precision: 0.9509 - val_recall: 0.8315 - val_f1-score: 0.8864 - val_iou_score: 0.7974\n",
      "Epoch 3/75\n",
      "178/178 [==============================] - 414s 2s/step - loss: 0.1702 - precision: 0.9625 - recall: 0.9670 - f1-score: 0.9645 - iou_score: 0.9317 - val_loss: 0.5557 - val_precision: 0.9405 - val_recall: 0.8519 - val_f1-score: 0.8930 - val_iou_score: 0.8081\n",
      "Epoch 4/75\n",
      "178/178 [==============================] - 415s 2s/step - loss: 0.1662 - precision: 0.9624 - recall: 0.9675 - f1-score: 0.9648 - iou_score: 0.9322 - val_loss: 0.6507 - val_precision: 0.9441 - val_recall: 0.8046 - val_f1-score: 0.8675 - val_iou_score: 0.7681\n",
      "Epoch 5/75\n",
      "177/178 [============================>.] - ETA: 2s - loss: 0.1563 - precision: 0.9652 - recall: 0.9689 - f1-score: 0.9670 - iou_score: 0.9362\n",
      "Epoch 00005: saving model to /content/Unet_MobilenetV2_Human_Seg_025+5.h5\n",
      "178/178 [==============================] - 408s 2s/step - loss: 0.1560 - precision: 0.9653 - recall: 0.9690 - f1-score: 0.9670 - iou_score: 0.9363 - val_loss: 0.5410 - val_precision: 0.9440 - val_recall: 0.8574 - val_f1-score: 0.8975 - val_iou_score: 0.8153\n",
      "Epoch 6/75\n",
      "178/178 [==============================] - 410s 2s/step - loss: 0.1559 - precision: 0.9653 - recall: 0.9700 - f1-score: 0.9675 - iou_score: 0.9372 - val_loss: 0.5820 - val_precision: 0.9476 - val_recall: 0.8379 - val_f1-score: 0.8887 - val_iou_score: 0.8011\n",
      "Epoch 7/75\n",
      "178/178 [==============================] - 407s 2s/step - loss: 0.1486 - precision: 0.9669 - recall: 0.9711 - f1-score: 0.9689 - iou_score: 0.9398 - val_loss: 0.7660 - val_precision: 0.9577 - val_recall: 0.7872 - val_f1-score: 0.8622 - val_iou_score: 0.7602\n",
      "Epoch 8/75\n",
      "178/178 [==============================] - 405s 2s/step - loss: 0.1368 - precision: 0.9696 - recall: 0.9737 - f1-score: 0.9716 - iou_score: 0.9449 - val_loss: 0.6940 - val_precision: 0.9536 - val_recall: 0.8135 - val_f1-score: 0.8766 - val_iou_score: 0.7827\n",
      "Epoch 9/75\n",
      "178/178 [==============================] - 411s 2s/step - loss: 0.1351 - precision: 0.9703 - recall: 0.9738 - f1-score: 0.9720 - iou_score: 0.9456 - val_loss: 0.6288 - val_precision: 0.9406 - val_recall: 0.8387 - val_f1-score: 0.8857 - val_iou_score: 0.7962\n",
      "Epoch 10/75\n",
      "177/178 [============================>.] - ETA: 2s - loss: 0.1356 - precision: 0.9698 - recall: 0.9735 - f1-score: 0.9716 - iou_score: 0.9448\n",
      "Epoch 00010: saving model to /content/Unet_MobilenetV2_Human_Seg_025+10.h5\n",
      "\n",
      "Epoch 00010: ReduceLROnPlateau reducing learning rate to 0.00010000000474974513.\n",
      "178/178 [==============================] - 420s 2s/step - loss: 0.1357 - precision: 0.9697 - recall: 0.9735 - f1-score: 0.9715 - iou_score: 0.9448 - val_loss: 0.5791 - val_precision: 0.9520 - val_recall: 0.8418 - val_f1-score: 0.8925 - val_iou_score: 0.8071\n",
      "Epoch 11/75\n",
      "178/178 [==============================] - 410s 2s/step - loss: 0.1213 - precision: 0.9728 - recall: 0.9759 - f1-score: 0.9743 - iou_score: 0.9500 - val_loss: 0.5114 - val_precision: 0.9431 - val_recall: 0.8832 - val_f1-score: 0.9113 - val_iou_score: 0.8382\n",
      "Epoch 12/75\n",
      "178/178 [==============================] - 412s 2s/step - loss: 0.1232 - precision: 0.9726 - recall: 0.9761 - f1-score: 0.9743 - iou_score: 0.9500 - val_loss: 0.5145 - val_precision: 0.9360 - val_recall: 0.8818 - val_f1-score: 0.9076 - val_iou_score: 0.8321\n",
      "Epoch 13/75\n",
      "178/178 [==============================] - 405s 2s/step - loss: 0.1204 - precision: 0.9737 - recall: 0.9762 - f1-score: 0.9749 - iou_score: 0.9511 - val_loss: 0.5039 - val_precision: 0.9277 - val_recall: 0.8906 - val_f1-score: 0.9080 - val_iou_score: 0.8326\n",
      "Epoch 14/75\n",
      "178/178 [==============================] - 413s 2s/step - loss: 0.1208 - precision: 0.9733 - recall: 0.9762 - f1-score: 0.9747 - iou_score: 0.9507 - val_loss: 0.5299 - val_precision: 0.9210 - val_recall: 0.8891 - val_f1-score: 0.9033 - val_iou_score: 0.8251\n",
      "Epoch 15/75\n",
      "177/178 [============================>.] - ETA: 2s - loss: 0.1229 - precision: 0.9729 - recall: 0.9760 - f1-score: 0.9744 - iou_score: 0.9502\n",
      "Epoch 00015: saving model to /content/Unet_MobilenetV2_Human_Seg_025+15.h5\n",
      "178/178 [==============================] - 412s 2s/step - loss: 0.1228 - precision: 0.9729 - recall: 0.9761 - f1-score: 0.9744 - iou_score: 0.9503 - val_loss: 0.4953 - val_precision: 0.9266 - val_recall: 0.8944 - val_f1-score: 0.9093 - val_iou_score: 0.8347\n",
      "Epoch 16/75\n",
      "178/178 [==============================] - 410s 2s/step - loss: 0.1181 - precision: 0.9733 - recall: 0.9773 - f1-score: 0.9753 - iou_score: 0.9518 - val_loss: 0.5043 - val_precision: 0.9198 - val_recall: 0.9023 - val_f1-score: 0.9101 - val_iou_score: 0.8366\n",
      "Epoch 17/75\n",
      "178/178 [==============================] - 415s 2s/step - loss: 0.1217 - precision: 0.9732 - recall: 0.9764 - f1-score: 0.9747 - iou_score: 0.9508 - val_loss: 0.4748 - val_precision: 0.9231 - val_recall: 0.9085 - val_f1-score: 0.9150 - val_iou_score: 0.8445\n",
      "Epoch 18/75\n",
      "178/178 [==============================] - 408s 2s/step - loss: 0.1180 - precision: 0.9743 - recall: 0.9772 - f1-score: 0.9757 - iou_score: 0.9526 - val_loss: 0.4454 - val_precision: 0.9370 - val_recall: 0.9030 - val_f1-score: 0.9191 - val_iou_score: 0.8518\n",
      "Epoch 19/75\n",
      "178/178 [==============================] - 412s 2s/step - loss: 0.1154 - precision: 0.9743 - recall: 0.9776 - f1-score: 0.9759 - iou_score: 0.9531 - val_loss: 0.5362 - val_precision: 0.9195 - val_recall: 0.8912 - val_f1-score: 0.9044 - val_iou_score: 0.8267\n",
      "Epoch 20/75\n",
      "177/178 [============================>.] - ETA: 2s - loss: 0.1152 - precision: 0.9746 - recall: 0.9774 - f1-score: 0.9760 - iou_score: 0.9532\n",
      "Epoch 00020: saving model to /content/Unet_MobilenetV2_Human_Seg_025+20.h5\n",
      "178/178 [==============================] - 419s 2s/step - loss: 0.1155 - precision: 0.9746 - recall: 0.9773 - f1-score: 0.9759 - iou_score: 0.9531 - val_loss: 0.4652 - val_precision: 0.9201 - val_recall: 0.9098 - val_f1-score: 0.9142 - val_iou_score: 0.8434\n",
      "Epoch 21/75\n",
      "178/178 [==============================] - 412s 2s/step - loss: 0.1109 - precision: 0.9753 - recall: 0.9787 - f1-score: 0.9769 - iou_score: 0.9550 - val_loss: 0.4958 - val_precision: 0.9125 - val_recall: 0.9053 - val_f1-score: 0.9083 - val_iou_score: 0.8330\n",
      "Epoch 22/75\n",
      "178/178 [==============================] - 410s 2s/step - loss: 0.1105 - precision: 0.9754 - recall: 0.9784 - f1-score: 0.9769 - iou_score: 0.9549 - val_loss: 0.5617 - val_precision: 0.9174 - val_recall: 0.8873 - val_f1-score: 0.9011 - val_iou_score: 0.8213\n",
      "Epoch 23/75\n",
      "177/178 [============================>.] - ETA: 2s - loss: 0.1099 - precision: 0.9757 - recall: 0.9788 - f1-score: 0.9772 - iou_score: 0.9555\n",
      "Epoch 00023: ReduceLROnPlateau reducing learning rate to 1.0000000474974514e-05.\n",
      "178/178 [==============================] - 407s 2s/step - loss: 0.1101 - precision: 0.9756 - recall: 0.9787 - f1-score: 0.9772 - iou_score: 0.9554 - val_loss: 0.5148 - val_precision: 0.9242 - val_recall: 0.9020 - val_f1-score: 0.9124 - val_iou_score: 0.8401\n",
      "Epoch 24/75\n",
      "178/178 [==============================] - 412s 2s/step - loss: 0.1110 - precision: 0.9750 - recall: 0.9784 - f1-score: 0.9767 - iou_score: 0.9545 - val_loss: 0.5473 - val_precision: 0.9189 - val_recall: 0.8958 - val_f1-score: 0.9062 - val_iou_score: 0.8297\n",
      "Epoch 25/75\n",
      "177/178 [============================>.] - ETA: 2s - loss: 0.1110 - precision: 0.9757 - recall: 0.9782 - f1-score: 0.9769 - iou_score: 0.9549\n",
      "Epoch 00025: saving model to /content/Unet_MobilenetV2_Human_Seg_025+25.h5\n",
      "178/178 [==============================] - 412s 2s/step - loss: 0.1111 - precision: 0.9756 - recall: 0.9783 - f1-score: 0.9769 - iou_score: 0.9549 - val_loss: 0.4936 - val_precision: 0.9164 - val_recall: 0.9050 - val_f1-score: 0.9100 - val_iou_score: 0.8359\n",
      "Epoch 26/75\n",
      "139/178 [======================>.......] - ETA: 1:19 - loss: 0.1079 - precision: 0.9764 - recall: 0.9789 - f1-score: 0.9776 - iou_score: 0.9562"
     ]
    }
   ],
   "source": [
    "import os\n",
    "os.environ[\"TF_CPP_MIN_LOG_LEVEL\"] = \"2\"\n",
    "%env SM_FRAMEWORK=tf.keras\n",
    "\n",
    "import numpy as np\n",
    "import tensorflow as tf\n",
    "# from model import build_unet\n",
    "# from data import load_dataset, tf_dataset\n",
    "from segmentation_models.losses import bce_jaccard_loss, dice_loss, JaccardLoss\n",
    "from segmentation_models.metrics import iou_score, f1_score, precision, recall\n",
    "from tensorflow.keras.callbacks import ModelCheckpoint, ReduceLROnPlateau, CSVLogger, EarlyStopping\n",
    "\n",
    "\"\"\" Hyperparamaters \"\"\"\n",
    "dataset_path = \"supervisely_person_clean_2667_img\"\n",
    "input_shape = (512, 512, 3)\n",
    "batch_size = 12\n",
    "epochs = 75\n",
    "lr = 1e-2\n",
    "# model_path = \"unet.h5\"\n",
    "# csv_path = \"data.csv\"\n",
    "\n",
    "\"\"\" Load the dataset \"\"\"\n",
    "# (train_x, train_y), (test_x, test_y) = load_dataset(dataset_path)\n",
    "# print(f\"Train: {len(train_x)} - {len(train_y)}\")\n",
    "# print(f\"Test: {len(test_x)} - {len(test_y)}\")\n",
    "\n",
    "# train_dataset = tf_dataset(train_x, train_y, batch=batch_size)\n",
    "# test_dataset = tf_dataset(test_x, test_y, batch=batch_size)\n",
    "\n",
    "\"\"\" callbacks \"\"\"\n",
    "checkpoint_filepath = '/content/Unet_MobilenetV2_Human_Seg_025+{epoch}.h5'\n",
    "model_checkpoint_callback = ModelCheckpoint(\n",
    "    filepath=checkpoint_filepath,\n",
    "    save_weights_only=False,\n",
    "    monitor='val_iou_score',\n",
    "    mode='max',\n",
    "    verbose = 1,\n",
    "    period = 5,\n",
    "    save_best_only=False\n",
    "    )\n",
    "\n",
    "callbacks = [\n",
    "    model_checkpoint_callback,\n",
    "    ReduceLROnPlateau(monitor=\"val_loss\", patience=5, factor=0.1, verbose=1),\n",
    "#     CSVLogger(csv_path),\n",
    "    EarlyStopping(monitor=\"val_loss\", patience=10)\n",
    "]\n",
    "\n",
    "\"\"\" steps per epochs \"\"\"\n",
    "# train_steps = len(train_x)//batch_size\n",
    "# if len(train_x) % batch_size != 0:\n",
    "#     train_steps += 1\n",
    "\n",
    "# test_steps = len(test_x)//batch_size\n",
    "# if len(test_x) % batch_size != 0:\n",
    "#     test_steps += 1\n",
    "\n",
    "# print(train_steps, test_steps)\n",
    "\n",
    "\n",
    "\"\"\" Model training \"\"\"\n",
    "ls = dice_loss + bce_jaccard_loss\n",
    "metrics = [precision, recall, f1_score, iou_score] \n",
    "\n",
    "for layer in model.layers:\n",
    "  # if layer.name == \"decoder_conv0_depthwise\":\n",
    "  #   break\n",
    "  # else:\n",
    "  layer.trainable = True\n",
    "# for layer in model.layers:\n",
    "#   print(layer.name,layer.trainable)\n",
    "\n",
    "from tensorflow.keras.models import load_model\n",
    "model = load_model('/content/Unet_MobilenetV2_resnet50_Human_Seg_000+25.h5', compile = False)\n",
    "model.compile(\n",
    "    loss=ls,\n",
    "    # optimizer=tf.keras.optimizers.Adam(lr),\n",
    "    metrics=metrics\n",
    ")\n",
    "# model.summary()\n",
    "\n",
    "model.fit(\n",
    "    train_generator,\n",
    "    validation_data=val_generator,\n",
    "    epochs=epochs,\n",
    "    steps_per_epoch=train_steps,\n",
    "    validation_steps=test_steps,\n",
    "    callbacks=callbacks\n",
    ")\n"
   ]
  },
  {
   "cell_type": "code",
   "execution_count": null,
   "metadata": {
    "id": "DfFRK3rNOw_l"
   },
   "outputs": [],
   "source": []
  }
 ],
 "metadata": {
  "accelerator": "GPU",
  "colab": {
   "collapsed_sections": [],
   "name": "Welcome To Colaboratory",
   "provenance": []
  },
  "kernelspec": {
   "display_name": "Python 3",
   "language": "python",
   "name": "python3"
  },
  "language_info": {
   "codemirror_mode": {
    "name": "ipython",
    "version": 3
   },
   "file_extension": ".py",
   "mimetype": "text/x-python",
   "name": "python",
   "nbconvert_exporter": "python",
   "pygments_lexer": "ipython3",
   "version": "3.8.3"
  }
 },
 "nbformat": 4,
 "nbformat_minor": 1
}
